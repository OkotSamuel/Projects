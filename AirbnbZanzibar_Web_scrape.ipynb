{
  "nbformat": 4,
  "nbformat_minor": 0,
  "metadata": {
    "colab": {
      "provenance": []
    },
    "kernelspec": {
      "name": "python3",
      "display_name": "Python 3"
    },
    "language_info": {
      "name": "python"
    }
  },
  "cells": [
    {
      "cell_type": "code",
      "execution_count": 1,
      "metadata": {
        "id": "AE0KHlmieDtP"
      },
      "outputs": [],
      "source": [
        "import requests\n",
        "from bs4 import BeautifulSoup"
      ]
    },
    {
      "cell_type": "code",
      "source": [
        "url = 'https://www.airbnb.com/s/Zanzibar--Tanzania/homes?tab_id=home_tab&refinement_paths%5B%5D=%2Fhomes&flexible_trip_lengths%5B%5D=one_week&price_filter_input_type=0&price_filter_num_nights=1&query=Zanzibar%2C%20Tanzania&place_id=ChIJQT0dOfPQXBgR1UpezDMDwts&date_picker_type=calendar&checkin=2022-12-16&checkout=2022-12-17&source=structured_search_input_header&search_type=autocomplete_click&federated_search_session_id=18d66315-8f79-47fc-954b-3040f9d18698&pagination_search=true&cursor=eyJzZWN0aW9uX29mZnNldCI6MCwiaXRlbXNfb2Zmc2V0IjowLCJ2ZXJzaW9uIjoxfQ%3D%3D'"
      ],
      "metadata": {
        "id": "d4ZPAwW5eLJH"
      },
      "execution_count": 2,
      "outputs": []
    },
    {
      "cell_type": "code",
      "source": [
        "response = requests.get(url)"
      ],
      "metadata": {
        "id": "5Su81J2UeQfR"
      },
      "execution_count": 3,
      "outputs": []
    },
    {
      "cell_type": "code",
      "source": [
        "print(response)"
      ],
      "metadata": {
        "colab": {
          "base_uri": "https://localhost:8080/"
        },
        "id": "GQgTpvSxeVyH",
        "outputId": "a82144bc-85f8-4945-f4a0-14c445f4fe76"
      },
      "execution_count": 4,
      "outputs": [
        {
          "output_type": "stream",
          "name": "stdout",
          "text": [
            "<Response [200]>\n"
          ]
        }
      ]
    },
    {
      "cell_type": "code",
      "source": [
        "soup = BeautifulSoup(response.content, 'html.parser')"
      ],
      "metadata": {
        "id": "m3poIdOleV8G"
      },
      "execution_count": 5,
      "outputs": []
    },
    {
      "cell_type": "code",
      "source": [
        "all = soup.find('div', class_='gh7uyir')"
      ],
      "metadata": {
        "id": "isf8Ou_teWDl"
      },
      "execution_count": 8,
      "outputs": []
    },
    {
      "cell_type": "code",
      "source": [
        "hotels = all.find_all('div',class_='c4mnd7m')"
      ],
      "metadata": {
        "id": "M3etj0-feWKd"
      },
      "execution_count": 9,
      "outputs": []
    },
    {
      "cell_type": "code",
      "source": [
        "zanzibar = []\n",
        "base_url ='https://www.airbnb.com/s/Zanzibar--Tanzania/homes?tab_id=home_tab&refinement_paths%5B%5D=%2Fhomes&flexible_trip_lengths%5B%5D=one_week&price_filter_input_type=0&price_filter_num_nights=1&query=Zanzibar%2C%20Tanzania&place_id=ChIJQT0dOfPQXBgR1UpezDMDwts&date_picker_type=calendar&checkin=2022-12-16&checkout=2022-12-17&source=structured_search_input_header&search_type=autocomplete_click&federated_search_session_id=18d66315-8f79-47fc-954b-3040f9d18698&pagination_search=true&cursor=eyJzZWN0aW9uX29mZnNldCI6MCwiaXRlbXNfb2Zmc2V0IjowLCJ2ZXJzaW9uIjoxfQ%3D%3D'\n",
        "url = base_url + '/page1'\n",
        "scraping = True\n",
        "\n",
        "while scraping:\n",
        "  response = requests.get(url)\n",
        "\n",
        "  soup = BeautifulSoup(response.content, 'html.parser')\n",
        "\n",
        "  all = soup.find('div', class_='gh7uyir')\n",
        "  hotels = all.find_all('div',class_='c4mnd7m')\n",
        "  for items in hotels:\n",
        "    title = items.find('div',class_='t1jojoys').text\n",
        "    location = items.find('span',class_='t6mzqp7').text\n",
        "    price = items.find('span',class_='a8jt5op').text[0:4]\n",
        "    zanzibar.append([title,location,price])\n",
        "    \n",
        "    next_page_link = soup.find('a', class_='_833p2h')\n",
        "    if next_page_link:\n",
        "      url = base_url + next_page_link['href']\n",
        "    else:\n",
        "      scraping = False\n",
        "\n",
        " \n",
        "  \n",
        "\n",
        " \n",
        "  \n",
        "  "
      ],
      "metadata": {
        "id": "YhEPWpZ1eWPp"
      },
      "execution_count": null,
      "outputs": []
    },
    {
      "cell_type": "code",
      "source": [
        "import pandas as pd"
      ],
      "metadata": {
        "id": "2QT3z4FUeWU2"
      },
      "execution_count": 112,
      "outputs": []
    },
    {
      "cell_type": "code",
      "source": [
        "df= pd.DataFrame(zanzibar, columns = ['Name','Location','Price'])"
      ],
      "metadata": {
        "id": "jPLhSiPPeWaQ"
      },
      "execution_count": 183,
      "outputs": []
    },
    {
      "cell_type": "code",
      "source": [
        "df.to_csv('zanzibar.csv')"
      ],
      "metadata": {
        "id": "6xqWRDDieWf7"
      },
      "execution_count": 184,
      "outputs": []
    },
    {
      "cell_type": "code",
      "source": [
        "data = pd.read_csv(r'/content/zanzibar.csv')"
      ],
      "metadata": {
        "id": "ti8QnzRLi_OM"
      },
      "execution_count": 185,
      "outputs": []
    },
    {
      "cell_type": "code",
      "source": [
        "data"
      ],
      "metadata": {
        "colab": {
          "base_uri": "https://localhost:8080/",
          "height": 424
        },
        "id": "TGxmbltIjLIM",
        "outputId": "dc1ca0f2-c40b-4d6f-d868-6ffd1589b58d"
      },
      "execution_count": 186,
      "outputs": [
        {
          "output_type": "execute_result",
          "data": {
            "text/plain": [
              "      Unnamed: 0                      Name  \\\n",
              "0              0  Private room in Zanzibar   \n",
              "1              1  Private room in Zanzibar   \n",
              "2              2           Villa in Bwejuu   \n",
              "3              3  Private room in Zanzibar   \n",
              "4              4         Villa in Zanzibar   \n",
              "...          ...                       ...   \n",
              "1095        1095   Apartment in Urban west   \n",
              "1096        1096    Private room in Bwejuu   \n",
              "1097        1097            Home in Bwejuu   \n",
              "1098        1098         Condo in Zanzibar   \n",
              "1099        1099   Private room in Matemwe   \n",
              "\n",
              "                                               Location Price  \n",
              "0                        Private room shangani sea view  $25   \n",
              "1                         Kingstone lodge (Garden view)  $50   \n",
              "2                        Coco Rise Villas I - by Hostly  $300  \n",
              "3           welcome to Zanzi house, stone town Zanzibar  $55   \n",
              "4        New Modern Villa, Close To Beach, Shops & Bars  $165  \n",
              "...                                                 ...   ...  \n",
              "1095       Gents Code - At The Train's House Stone Town  $60   \n",
              "1096  Small Size Beach Bungalows at Evergreen Bungalows  $50   \n",
              "1097  Kamanda House - Private Guest House near the B...  $61   \n",
              "1098                       Welcome to kitauni apartment  $26   \n",
              "1099                 Standard Bungalow With Garden View  $42   \n",
              "\n",
              "[1100 rows x 4 columns]"
            ],
            "text/html": [
              "\n",
              "  <div id=\"df-dbdd61eb-ccc6-41cd-9412-7baf3e9bbb24\">\n",
              "    <div class=\"colab-df-container\">\n",
              "      <div>\n",
              "<style scoped>\n",
              "    .dataframe tbody tr th:only-of-type {\n",
              "        vertical-align: middle;\n",
              "    }\n",
              "\n",
              "    .dataframe tbody tr th {\n",
              "        vertical-align: top;\n",
              "    }\n",
              "\n",
              "    .dataframe thead th {\n",
              "        text-align: right;\n",
              "    }\n",
              "</style>\n",
              "<table border=\"1\" class=\"dataframe\">\n",
              "  <thead>\n",
              "    <tr style=\"text-align: right;\">\n",
              "      <th></th>\n",
              "      <th>Unnamed: 0</th>\n",
              "      <th>Name</th>\n",
              "      <th>Location</th>\n",
              "      <th>Price</th>\n",
              "    </tr>\n",
              "  </thead>\n",
              "  <tbody>\n",
              "    <tr>\n",
              "      <th>0</th>\n",
              "      <td>0</td>\n",
              "      <td>Private room in Zanzibar</td>\n",
              "      <td>Private room shangani sea view</td>\n",
              "      <td>$25</td>\n",
              "    </tr>\n",
              "    <tr>\n",
              "      <th>1</th>\n",
              "      <td>1</td>\n",
              "      <td>Private room in Zanzibar</td>\n",
              "      <td>Kingstone lodge (Garden view)</td>\n",
              "      <td>$50</td>\n",
              "    </tr>\n",
              "    <tr>\n",
              "      <th>2</th>\n",
              "      <td>2</td>\n",
              "      <td>Villa in Bwejuu</td>\n",
              "      <td>Coco Rise Villas I - by Hostly</td>\n",
              "      <td>$300</td>\n",
              "    </tr>\n",
              "    <tr>\n",
              "      <th>3</th>\n",
              "      <td>3</td>\n",
              "      <td>Private room in Zanzibar</td>\n",
              "      <td>welcome to Zanzi house, stone town Zanzibar</td>\n",
              "      <td>$55</td>\n",
              "    </tr>\n",
              "    <tr>\n",
              "      <th>4</th>\n",
              "      <td>4</td>\n",
              "      <td>Villa in Zanzibar</td>\n",
              "      <td>New Modern Villa, Close To Beach, Shops &amp; Bars</td>\n",
              "      <td>$165</td>\n",
              "    </tr>\n",
              "    <tr>\n",
              "      <th>...</th>\n",
              "      <td>...</td>\n",
              "      <td>...</td>\n",
              "      <td>...</td>\n",
              "      <td>...</td>\n",
              "    </tr>\n",
              "    <tr>\n",
              "      <th>1095</th>\n",
              "      <td>1095</td>\n",
              "      <td>Apartment in Urban west</td>\n",
              "      <td>Gents Code - At The Train's House Stone Town</td>\n",
              "      <td>$60</td>\n",
              "    </tr>\n",
              "    <tr>\n",
              "      <th>1096</th>\n",
              "      <td>1096</td>\n",
              "      <td>Private room in Bwejuu</td>\n",
              "      <td>Small Size Beach Bungalows at Evergreen Bungalows</td>\n",
              "      <td>$50</td>\n",
              "    </tr>\n",
              "    <tr>\n",
              "      <th>1097</th>\n",
              "      <td>1097</td>\n",
              "      <td>Home in Bwejuu</td>\n",
              "      <td>Kamanda House - Private Guest House near the B...</td>\n",
              "      <td>$61</td>\n",
              "    </tr>\n",
              "    <tr>\n",
              "      <th>1098</th>\n",
              "      <td>1098</td>\n",
              "      <td>Condo in Zanzibar</td>\n",
              "      <td>Welcome to kitauni apartment</td>\n",
              "      <td>$26</td>\n",
              "    </tr>\n",
              "    <tr>\n",
              "      <th>1099</th>\n",
              "      <td>1099</td>\n",
              "      <td>Private room in Matemwe</td>\n",
              "      <td>Standard Bungalow With Garden View</td>\n",
              "      <td>$42</td>\n",
              "    </tr>\n",
              "  </tbody>\n",
              "</table>\n",
              "<p>1100 rows × 4 columns</p>\n",
              "</div>\n",
              "      <button class=\"colab-df-convert\" onclick=\"convertToInteractive('df-dbdd61eb-ccc6-41cd-9412-7baf3e9bbb24')\"\n",
              "              title=\"Convert this dataframe to an interactive table.\"\n",
              "              style=\"display:none;\">\n",
              "        \n",
              "  <svg xmlns=\"http://www.w3.org/2000/svg\" height=\"24px\"viewBox=\"0 0 24 24\"\n",
              "       width=\"24px\">\n",
              "    <path d=\"M0 0h24v24H0V0z\" fill=\"none\"/>\n",
              "    <path d=\"M18.56 5.44l.94 2.06.94-2.06 2.06-.94-2.06-.94-.94-2.06-.94 2.06-2.06.94zm-11 1L8.5 8.5l.94-2.06 2.06-.94-2.06-.94L8.5 2.5l-.94 2.06-2.06.94zm10 10l.94 2.06.94-2.06 2.06-.94-2.06-.94-.94-2.06-.94 2.06-2.06.94z\"/><path d=\"M17.41 7.96l-1.37-1.37c-.4-.4-.92-.59-1.43-.59-.52 0-1.04.2-1.43.59L10.3 9.45l-7.72 7.72c-.78.78-.78 2.05 0 2.83L4 21.41c.39.39.9.59 1.41.59.51 0 1.02-.2 1.41-.59l7.78-7.78 2.81-2.81c.8-.78.8-2.07 0-2.86zM5.41 20L4 18.59l7.72-7.72 1.47 1.35L5.41 20z\"/>\n",
              "  </svg>\n",
              "      </button>\n",
              "      \n",
              "  <style>\n",
              "    .colab-df-container {\n",
              "      display:flex;\n",
              "      flex-wrap:wrap;\n",
              "      gap: 12px;\n",
              "    }\n",
              "\n",
              "    .colab-df-convert {\n",
              "      background-color: #E8F0FE;\n",
              "      border: none;\n",
              "      border-radius: 50%;\n",
              "      cursor: pointer;\n",
              "      display: none;\n",
              "      fill: #1967D2;\n",
              "      height: 32px;\n",
              "      padding: 0 0 0 0;\n",
              "      width: 32px;\n",
              "    }\n",
              "\n",
              "    .colab-df-convert:hover {\n",
              "      background-color: #E2EBFA;\n",
              "      box-shadow: 0px 1px 2px rgba(60, 64, 67, 0.3), 0px 1px 3px 1px rgba(60, 64, 67, 0.15);\n",
              "      fill: #174EA6;\n",
              "    }\n",
              "\n",
              "    [theme=dark] .colab-df-convert {\n",
              "      background-color: #3B4455;\n",
              "      fill: #D2E3FC;\n",
              "    }\n",
              "\n",
              "    [theme=dark] .colab-df-convert:hover {\n",
              "      background-color: #434B5C;\n",
              "      box-shadow: 0px 1px 3px 1px rgba(0, 0, 0, 0.15);\n",
              "      filter: drop-shadow(0px 1px 2px rgba(0, 0, 0, 0.3));\n",
              "      fill: #FFFFFF;\n",
              "    }\n",
              "  </style>\n",
              "\n",
              "      <script>\n",
              "        const buttonEl =\n",
              "          document.querySelector('#df-dbdd61eb-ccc6-41cd-9412-7baf3e9bbb24 button.colab-df-convert');\n",
              "        buttonEl.style.display =\n",
              "          google.colab.kernel.accessAllowed ? 'block' : 'none';\n",
              "\n",
              "        async function convertToInteractive(key) {\n",
              "          const element = document.querySelector('#df-dbdd61eb-ccc6-41cd-9412-7baf3e9bbb24');\n",
              "          const dataTable =\n",
              "            await google.colab.kernel.invokeFunction('convertToInteractive',\n",
              "                                                     [key], {});\n",
              "          if (!dataTable) return;\n",
              "\n",
              "          const docLinkHtml = 'Like what you see? Visit the ' +\n",
              "            '<a target=\"_blank\" href=https://colab.research.google.com/notebooks/data_table.ipynb>data table notebook</a>'\n",
              "            + ' to learn more about interactive tables.';\n",
              "          element.innerHTML = '';\n",
              "          dataTable['output_type'] = 'display_data';\n",
              "          await google.colab.output.renderOutput(dataTable, element);\n",
              "          const docLink = document.createElement('div');\n",
              "          docLink.innerHTML = docLinkHtml;\n",
              "          element.appendChild(docLink);\n",
              "        }\n",
              "      </script>\n",
              "    </div>\n",
              "  </div>\n",
              "  "
            ]
          },
          "metadata": {},
          "execution_count": 186
        }
      ]
    },
    {
      "cell_type": "code",
      "source": [
        "data['Price'] = data['Price'].str.replace('$','')"
      ],
      "metadata": {
        "id": "dbb3kU8sjdRz"
      },
      "execution_count": null,
      "outputs": []
    },
    {
      "cell_type": "code",
      "source": [
        "data.rename(columns = {'Price':'Price_in_usd'},inplace = True)"
      ],
      "metadata": {
        "id": "xARCJMC5kFtt"
      },
      "execution_count": 193,
      "outputs": []
    },
    {
      "cell_type": "code",
      "source": [
        "data\n"
      ],
      "metadata": {
        "colab": {
          "base_uri": "https://localhost:8080/",
          "height": 424
        },
        "id": "ck7wY29GkF4p",
        "outputId": "41e97489-909e-4f0b-e5ba-11d5fcb0fd09"
      },
      "execution_count": 194,
      "outputs": [
        {
          "output_type": "execute_result",
          "data": {
            "text/plain": [
              "      Unnamed: 0                      Name  \\\n",
              "0              0  Private room in Zanzibar   \n",
              "1              1  Private room in Zanzibar   \n",
              "2              2           Villa in Bwejuu   \n",
              "3              3  Private room in Zanzibar   \n",
              "4              4         Villa in Zanzibar   \n",
              "...          ...                       ...   \n",
              "1095        1095   Apartment in Urban west   \n",
              "1096        1096    Private room in Bwejuu   \n",
              "1097        1097            Home in Bwejuu   \n",
              "1098        1098         Condo in Zanzibar   \n",
              "1099        1099   Private room in Matemwe   \n",
              "\n",
              "                                               Location Price_in_usd  \n",
              "0                        Private room shangani sea view          25   \n",
              "1                         Kingstone lodge (Garden view)          50   \n",
              "2                        Coco Rise Villas I - by Hostly          300  \n",
              "3           welcome to Zanzi house, stone town Zanzibar          55   \n",
              "4        New Modern Villa, Close To Beach, Shops & Bars          165  \n",
              "...                                                 ...          ...  \n",
              "1095       Gents Code - At The Train's House Stone Town          60   \n",
              "1096  Small Size Beach Bungalows at Evergreen Bungalows          50   \n",
              "1097  Kamanda House - Private Guest House near the B...          61   \n",
              "1098                       Welcome to kitauni apartment          26   \n",
              "1099                 Standard Bungalow With Garden View          42   \n",
              "\n",
              "[1100 rows x 4 columns]"
            ],
            "text/html": [
              "\n",
              "  <div id=\"df-4cd432e2-c954-4c44-b833-e294afcb4d15\">\n",
              "    <div class=\"colab-df-container\">\n",
              "      <div>\n",
              "<style scoped>\n",
              "    .dataframe tbody tr th:only-of-type {\n",
              "        vertical-align: middle;\n",
              "    }\n",
              "\n",
              "    .dataframe tbody tr th {\n",
              "        vertical-align: top;\n",
              "    }\n",
              "\n",
              "    .dataframe thead th {\n",
              "        text-align: right;\n",
              "    }\n",
              "</style>\n",
              "<table border=\"1\" class=\"dataframe\">\n",
              "  <thead>\n",
              "    <tr style=\"text-align: right;\">\n",
              "      <th></th>\n",
              "      <th>Unnamed: 0</th>\n",
              "      <th>Name</th>\n",
              "      <th>Location</th>\n",
              "      <th>Price_in_usd</th>\n",
              "    </tr>\n",
              "  </thead>\n",
              "  <tbody>\n",
              "    <tr>\n",
              "      <th>0</th>\n",
              "      <td>0</td>\n",
              "      <td>Private room in Zanzibar</td>\n",
              "      <td>Private room shangani sea view</td>\n",
              "      <td>25</td>\n",
              "    </tr>\n",
              "    <tr>\n",
              "      <th>1</th>\n",
              "      <td>1</td>\n",
              "      <td>Private room in Zanzibar</td>\n",
              "      <td>Kingstone lodge (Garden view)</td>\n",
              "      <td>50</td>\n",
              "    </tr>\n",
              "    <tr>\n",
              "      <th>2</th>\n",
              "      <td>2</td>\n",
              "      <td>Villa in Bwejuu</td>\n",
              "      <td>Coco Rise Villas I - by Hostly</td>\n",
              "      <td>300</td>\n",
              "    </tr>\n",
              "    <tr>\n",
              "      <th>3</th>\n",
              "      <td>3</td>\n",
              "      <td>Private room in Zanzibar</td>\n",
              "      <td>welcome to Zanzi house, stone town Zanzibar</td>\n",
              "      <td>55</td>\n",
              "    </tr>\n",
              "    <tr>\n",
              "      <th>4</th>\n",
              "      <td>4</td>\n",
              "      <td>Villa in Zanzibar</td>\n",
              "      <td>New Modern Villa, Close To Beach, Shops &amp; Bars</td>\n",
              "      <td>165</td>\n",
              "    </tr>\n",
              "    <tr>\n",
              "      <th>...</th>\n",
              "      <td>...</td>\n",
              "      <td>...</td>\n",
              "      <td>...</td>\n",
              "      <td>...</td>\n",
              "    </tr>\n",
              "    <tr>\n",
              "      <th>1095</th>\n",
              "      <td>1095</td>\n",
              "      <td>Apartment in Urban west</td>\n",
              "      <td>Gents Code - At The Train's House Stone Town</td>\n",
              "      <td>60</td>\n",
              "    </tr>\n",
              "    <tr>\n",
              "      <th>1096</th>\n",
              "      <td>1096</td>\n",
              "      <td>Private room in Bwejuu</td>\n",
              "      <td>Small Size Beach Bungalows at Evergreen Bungalows</td>\n",
              "      <td>50</td>\n",
              "    </tr>\n",
              "    <tr>\n",
              "      <th>1097</th>\n",
              "      <td>1097</td>\n",
              "      <td>Home in Bwejuu</td>\n",
              "      <td>Kamanda House - Private Guest House near the B...</td>\n",
              "      <td>61</td>\n",
              "    </tr>\n",
              "    <tr>\n",
              "      <th>1098</th>\n",
              "      <td>1098</td>\n",
              "      <td>Condo in Zanzibar</td>\n",
              "      <td>Welcome to kitauni apartment</td>\n",
              "      <td>26</td>\n",
              "    </tr>\n",
              "    <tr>\n",
              "      <th>1099</th>\n",
              "      <td>1099</td>\n",
              "      <td>Private room in Matemwe</td>\n",
              "      <td>Standard Bungalow With Garden View</td>\n",
              "      <td>42</td>\n",
              "    </tr>\n",
              "  </tbody>\n",
              "</table>\n",
              "<p>1100 rows × 4 columns</p>\n",
              "</div>\n",
              "      <button class=\"colab-df-convert\" onclick=\"convertToInteractive('df-4cd432e2-c954-4c44-b833-e294afcb4d15')\"\n",
              "              title=\"Convert this dataframe to an interactive table.\"\n",
              "              style=\"display:none;\">\n",
              "        \n",
              "  <svg xmlns=\"http://www.w3.org/2000/svg\" height=\"24px\"viewBox=\"0 0 24 24\"\n",
              "       width=\"24px\">\n",
              "    <path d=\"M0 0h24v24H0V0z\" fill=\"none\"/>\n",
              "    <path d=\"M18.56 5.44l.94 2.06.94-2.06 2.06-.94-2.06-.94-.94-2.06-.94 2.06-2.06.94zm-11 1L8.5 8.5l.94-2.06 2.06-.94-2.06-.94L8.5 2.5l-.94 2.06-2.06.94zm10 10l.94 2.06.94-2.06 2.06-.94-2.06-.94-.94-2.06-.94 2.06-2.06.94z\"/><path d=\"M17.41 7.96l-1.37-1.37c-.4-.4-.92-.59-1.43-.59-.52 0-1.04.2-1.43.59L10.3 9.45l-7.72 7.72c-.78.78-.78 2.05 0 2.83L4 21.41c.39.39.9.59 1.41.59.51 0 1.02-.2 1.41-.59l7.78-7.78 2.81-2.81c.8-.78.8-2.07 0-2.86zM5.41 20L4 18.59l7.72-7.72 1.47 1.35L5.41 20z\"/>\n",
              "  </svg>\n",
              "      </button>\n",
              "      \n",
              "  <style>\n",
              "    .colab-df-container {\n",
              "      display:flex;\n",
              "      flex-wrap:wrap;\n",
              "      gap: 12px;\n",
              "    }\n",
              "\n",
              "    .colab-df-convert {\n",
              "      background-color: #E8F0FE;\n",
              "      border: none;\n",
              "      border-radius: 50%;\n",
              "      cursor: pointer;\n",
              "      display: none;\n",
              "      fill: #1967D2;\n",
              "      height: 32px;\n",
              "      padding: 0 0 0 0;\n",
              "      width: 32px;\n",
              "    }\n",
              "\n",
              "    .colab-df-convert:hover {\n",
              "      background-color: #E2EBFA;\n",
              "      box-shadow: 0px 1px 2px rgba(60, 64, 67, 0.3), 0px 1px 3px 1px rgba(60, 64, 67, 0.15);\n",
              "      fill: #174EA6;\n",
              "    }\n",
              "\n",
              "    [theme=dark] .colab-df-convert {\n",
              "      background-color: #3B4455;\n",
              "      fill: #D2E3FC;\n",
              "    }\n",
              "\n",
              "    [theme=dark] .colab-df-convert:hover {\n",
              "      background-color: #434B5C;\n",
              "      box-shadow: 0px 1px 3px 1px rgba(0, 0, 0, 0.15);\n",
              "      filter: drop-shadow(0px 1px 2px rgba(0, 0, 0, 0.3));\n",
              "      fill: #FFFFFF;\n",
              "    }\n",
              "  </style>\n",
              "\n",
              "      <script>\n",
              "        const buttonEl =\n",
              "          document.querySelector('#df-4cd432e2-c954-4c44-b833-e294afcb4d15 button.colab-df-convert');\n",
              "        buttonEl.style.display =\n",
              "          google.colab.kernel.accessAllowed ? 'block' : 'none';\n",
              "\n",
              "        async function convertToInteractive(key) {\n",
              "          const element = document.querySelector('#df-4cd432e2-c954-4c44-b833-e294afcb4d15');\n",
              "          const dataTable =\n",
              "            await google.colab.kernel.invokeFunction('convertToInteractive',\n",
              "                                                     [key], {});\n",
              "          if (!dataTable) return;\n",
              "\n",
              "          const docLinkHtml = 'Like what you see? Visit the ' +\n",
              "            '<a target=\"_blank\" href=https://colab.research.google.com/notebooks/data_table.ipynb>data table notebook</a>'\n",
              "            + ' to learn more about interactive tables.';\n",
              "          element.innerHTML = '';\n",
              "          dataTable['output_type'] = 'display_data';\n",
              "          await google.colab.output.renderOutput(dataTable, element);\n",
              "          const docLink = document.createElement('div');\n",
              "          docLink.innerHTML = docLinkHtml;\n",
              "          element.appendChild(docLink);\n",
              "        }\n",
              "      </script>\n",
              "    </div>\n",
              "  </div>\n",
              "  "
            ]
          },
          "metadata": {},
          "execution_count": 194
        }
      ]
    },
    {
      "cell_type": "code",
      "source": [
        "data.dtypes"
      ],
      "metadata": {
        "colab": {
          "base_uri": "https://localhost:8080/"
        },
        "id": "UDt9xqjpkvsV",
        "outputId": "7286d41c-3997-44ca-a400-94fbd8866c48"
      },
      "execution_count": 196,
      "outputs": [
        {
          "output_type": "execute_result",
          "data": {
            "text/plain": [
              "Unnamed: 0       int64\n",
              "Name            object\n",
              "Location        object\n",
              "Price_in_usd    object\n",
              "dtype: object"
            ]
          },
          "metadata": {},
          "execution_count": 196
        }
      ]
    },
    {
      "cell_type": "code",
      "source": [
        "data['Price_in_usd']= data['Price_in_usd'].astype(int)"
      ],
      "metadata": {
        "id": "NRjhQjrMkk2Q"
      },
      "execution_count": 197,
      "outputs": []
    },
    {
      "cell_type": "code",
      "source": [
        "data.dtypes"
      ],
      "metadata": {
        "colab": {
          "base_uri": "https://localhost:8080/"
        },
        "id": "unExBf_9lZVh",
        "outputId": "8c932df1-2fef-4da6-b7e0-59e89b8c9910"
      },
      "execution_count": 199,
      "outputs": [
        {
          "output_type": "execute_result",
          "data": {
            "text/plain": [
              "Unnamed: 0       int64\n",
              "Name            object\n",
              "Location        object\n",
              "Price_in_usd     int64\n",
              "dtype: object"
            ]
          },
          "metadata": {},
          "execution_count": 199
        }
      ]
    },
    {
      "cell_type": "code",
      "source": [
        "data.groupby('Location').Price_in_usd.mean().sort_values(ascending = False).round().head(10)"
      ],
      "metadata": {
        "colab": {
          "base_uri": "https://localhost:8080/"
        },
        "id": "6b1k0yhcle94",
        "outputId": "c336e476-22ba-48d4-fb0c-f743bbbb053d"
      },
      "execution_count": 209,
      "outputs": [
        {
          "output_type": "execute_result",
          "data": {
            "text/plain": [
              "Location\n",
              "V   I   L   L   A          O   A   S   I   S          329.0\n",
              "Coco Rise Villas I - by Hostly                        300.0\n",
              "FungaFungaBeachVilla 1                                180.0\n",
              "New Modern Villa, Close To Beach, Shops & Bars        165.0\n",
              "Beach Hut  at The Adventure Villa                     120.0\n",
              "Maru Maru Hotel, Zanzibar                             112.0\n",
              "Beautiful beach villa room inc Wi-Fi (adults only)     96.0\n",
              "House of Royals - Sultan Barghash Suite                92.0\n",
              "Imara Boutique Hotel                                   87.0\n",
              "Promised Land Lodge: Deluxe Double                     80.0\n",
              "Name: Price_in_usd, dtype: float64"
            ]
          },
          "metadata": {},
          "execution_count": 209
        }
      ]
    },
    {
      "cell_type": "code",
      "source": [
        "import matplotlib.pyplot as plt"
      ],
      "metadata": {
        "id": "GXBON84YnVRU"
      },
      "execution_count": 210,
      "outputs": []
    },
    {
      "cell_type": "code",
      "source": [
        "plt.style.use('seaborn-dark')\n",
        "data.groupby('Location').Price_in_usd.mean().sort_values(ascending = False).round().head(10).plot(kind = 'bar')\n",
        "plt.title('Top 10 Highest Average prices per Location')\n",
        "plt.ylabel('Average Price')\n"
      ],
      "metadata": {
        "colab": {
          "base_uri": "https://localhost:8080/",
          "height": 603
        },
        "id": "DgTG3YginVmi",
        "outputId": "fd7ee8af-3e3d-42f4-fed6-0b9a15f9d640"
      },
      "execution_count": 221,
      "outputs": [
        {
          "output_type": "execute_result",
          "data": {
            "text/plain": [
              "Text(0, 0.5, 'Average Price')"
            ]
          },
          "metadata": {},
          "execution_count": 221
        },
        {
          "output_type": "display_data",
          "data": {
            "text/plain": [
              "<Figure size 576x396 with 1 Axes>"
            ],
            "image/png": "[encoded data removed]"
          },
          "metadata": {}
        }
      ]
    }
  ]
}