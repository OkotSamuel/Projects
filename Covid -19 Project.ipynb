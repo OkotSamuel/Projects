{
 "cells": [
  {
   "cell_type": "markdown",
   "id": "d7744517",
   "metadata": {},
   "source": [
    "# COVID -19 CASES AND VACCINATIONS WORLDWIDE"
   ]
  },
  {
   "cell_type": "code",
   "execution_count": 1,
   "id": "6ef1cb03",
   "metadata": {},
   "outputs": [],
   "source": [
    "import pandas as pd"
   ]
  },
  {
   "cell_type": "code",
   "execution_count": 2,
   "id": "e90bd24f",
   "metadata": {},
   "outputs": [],
   "source": [
    "data = pd.read_csv(r'C:\\Users\\PC ZED\\Desktop\\DATA SETS\\covid_cases__vaccination.csv')"
   ]
  },
  {
   "cell_type": "code",
   "execution_count": 3,
   "id": "03c3e4c0",
   "metadata": {},
   "outputs": [
    {
     "data": {
      "text/html": [
       "<div>\n",
       "<style scoped>\n",
       "    .dataframe tbody tr th:only-of-type {\n",
       "        vertical-align: middle;\n",
       "    }\n",
       "\n",
       "    .dataframe tbody tr th {\n",
       "        vertical-align: top;\n",
       "    }\n",
       "\n",
       "    .dataframe thead th {\n",
       "        text-align: right;\n",
       "    }\n",
       "</style>\n",
       "<table border=\"1\" class=\"dataframe\">\n",
       "  <thead>\n",
       "    <tr style=\"text-align: right;\">\n",
       "      <th></th>\n",
       "      <th>Unnamed: 0</th>\n",
       "      <th>country</th>\n",
       "      <th>date</th>\n",
       "      <th>total_cases</th>\n",
       "      <th>total_deaths</th>\n",
       "      <th>daily_cases</th>\n",
       "      <th>daily_deaths</th>\n",
       "      <th>fully_vaccinated</th>\n",
       "      <th>total_vaccinations</th>\n",
       "      <th>total_boosters</th>\n",
       "      <th>daily_vaccinations</th>\n",
       "      <th>daily_people_vaccinated</th>\n",
       "    </tr>\n",
       "  </thead>\n",
       "  <tbody>\n",
       "    <tr>\n",
       "      <th>0</th>\n",
       "      <td>0</td>\n",
       "      <td>afghanistan</td>\n",
       "      <td>22/01/2020</td>\n",
       "      <td>0</td>\n",
       "      <td>0</td>\n",
       "      <td>0</td>\n",
       "      <td>0</td>\n",
       "      <td>0</td>\n",
       "      <td>0</td>\n",
       "      <td>0</td>\n",
       "      <td>0</td>\n",
       "      <td>0</td>\n",
       "    </tr>\n",
       "    <tr>\n",
       "      <th>1</th>\n",
       "      <td>1</td>\n",
       "      <td>afghanistan</td>\n",
       "      <td>23/01/2020</td>\n",
       "      <td>0</td>\n",
       "      <td>0</td>\n",
       "      <td>0</td>\n",
       "      <td>0</td>\n",
       "      <td>0</td>\n",
       "      <td>0</td>\n",
       "      <td>0</td>\n",
       "      <td>0</td>\n",
       "      <td>0</td>\n",
       "    </tr>\n",
       "    <tr>\n",
       "      <th>2</th>\n",
       "      <td>2</td>\n",
       "      <td>afghanistan</td>\n",
       "      <td>24/01/2020</td>\n",
       "      <td>0</td>\n",
       "      <td>0</td>\n",
       "      <td>0</td>\n",
       "      <td>0</td>\n",
       "      <td>0</td>\n",
       "      <td>0</td>\n",
       "      <td>0</td>\n",
       "      <td>0</td>\n",
       "      <td>0</td>\n",
       "    </tr>\n",
       "    <tr>\n",
       "      <th>3</th>\n",
       "      <td>3</td>\n",
       "      <td>afghanistan</td>\n",
       "      <td>25/01/2020</td>\n",
       "      <td>0</td>\n",
       "      <td>0</td>\n",
       "      <td>0</td>\n",
       "      <td>0</td>\n",
       "      <td>0</td>\n",
       "      <td>0</td>\n",
       "      <td>0</td>\n",
       "      <td>0</td>\n",
       "      <td>0</td>\n",
       "    </tr>\n",
       "    <tr>\n",
       "      <th>4</th>\n",
       "      <td>4</td>\n",
       "      <td>afghanistan</td>\n",
       "      <td>26/01/2020</td>\n",
       "      <td>0</td>\n",
       "      <td>0</td>\n",
       "      <td>0</td>\n",
       "      <td>0</td>\n",
       "      <td>0</td>\n",
       "      <td>0</td>\n",
       "      <td>0</td>\n",
       "      <td>0</td>\n",
       "      <td>0</td>\n",
       "    </tr>\n",
       "  </tbody>\n",
       "</table>\n",
       "</div>"
      ],
      "text/plain": [
       "   Unnamed: 0      country        date  total_cases  total_deaths  \\\n",
       "0           0  afghanistan  22/01/2020            0             0   \n",
       "1           1  afghanistan  23/01/2020            0             0   \n",
       "2           2  afghanistan  24/01/2020            0             0   \n",
       "3           3  afghanistan  25/01/2020            0             0   \n",
       "4           4  afghanistan  26/01/2020            0             0   \n",
       "\n",
       "   daily_cases  daily_deaths  fully_vaccinated  total_vaccinations  \\\n",
       "0            0             0                 0                   0   \n",
       "1            0             0                 0                   0   \n",
       "2            0             0                 0                   0   \n",
       "3            0             0                 0                   0   \n",
       "4            0             0                 0                   0   \n",
       "\n",
       "   total_boosters  daily_vaccinations  daily_people_vaccinated  \n",
       "0               0                   0                        0  \n",
       "1               0                   0                        0  \n",
       "2               0                   0                        0  \n",
       "3               0                   0                        0  \n",
       "4               0                   0                        0  "
      ]
     },
     "execution_count": 3,
     "metadata": {},
     "output_type": "execute_result"
    }
   ],
   "source": [
    "data.head()"
   ]
  },
  {
   "cell_type": "code",
   "execution_count": 8,
   "id": "8a95bd60",
   "metadata": {},
   "outputs": [
    {
     "data": {
      "text/plain": [
       "(199017, 12)"
      ]
     },
     "execution_count": 8,
     "metadata": {},
     "output_type": "execute_result"
    }
   ],
   "source": [
    "data.shape"
   ]
  },
  {
   "cell_type": "code",
   "execution_count": null,
   "id": "fc203654",
   "metadata": {},
   "outputs": [],
   "source": [
    "# Looking for null values ."
   ]
  },
  {
   "cell_type": "code",
   "execution_count": 9,
   "id": "439a1c77",
   "metadata": {},
   "outputs": [
    {
     "data": {
      "text/plain": [
       "Unnamed: 0                 0\n",
       "country                    0\n",
       "date                       0\n",
       "total_cases                0\n",
       "total_deaths               0\n",
       "daily_cases                0\n",
       "daily_deaths               0\n",
       "fully_vaccinated           0\n",
       "total_vaccinations         0\n",
       "total_boosters             0\n",
       "daily_vaccinations         0\n",
       "daily_people_vaccinated    0\n",
       "dtype: int64"
      ]
     },
     "execution_count": 9,
     "metadata": {},
     "output_type": "execute_result"
    }
   ],
   "source": [
    "data.isnull().sum()"
   ]
  },
  {
   "cell_type": "code",
   "execution_count": 10,
   "id": "4ec22e88",
   "metadata": {},
   "outputs": [
    {
     "data": {
      "text/plain": [
       "RangeIndex(start=0, stop=199017, step=1)"
      ]
     },
     "execution_count": 10,
     "metadata": {},
     "output_type": "execute_result"
    }
   ],
   "source": [
    "data.index"
   ]
  },
  {
   "cell_type": "code",
   "execution_count": 11,
   "id": "512304eb",
   "metadata": {},
   "outputs": [
    {
     "data": {
      "text/plain": [
       "Unnamed: 0                  int64\n",
       "country                    object\n",
       "date                       object\n",
       "total_cases                 int64\n",
       "total_deaths                int64\n",
       "daily_cases                 int64\n",
       "daily_deaths                int64\n",
       "fully_vaccinated            int64\n",
       "total_vaccinations          int64\n",
       "total_boosters              int64\n",
       "daily_vaccinations          int64\n",
       "daily_people_vaccinated     int64\n",
       "dtype: object"
      ]
     },
     "execution_count": 11,
     "metadata": {},
     "output_type": "execute_result"
    }
   ],
   "source": [
    "data.dtypes"
   ]
  },
  {
   "cell_type": "code",
   "execution_count": 12,
   "id": "3f9da907",
   "metadata": {},
   "outputs": [
    {
     "data": {
      "text/plain": [
       "Index(['Unnamed: 0', 'country', 'date', 'total_cases', 'total_deaths',\n",
       "       'daily_cases', 'daily_deaths', 'fully_vaccinated', 'total_vaccinations',\n",
       "       'total_boosters', 'daily_vaccinations', 'daily_people_vaccinated'],\n",
       "      dtype='object')"
      ]
     },
     "execution_count": 12,
     "metadata": {},
     "output_type": "execute_result"
    }
   ],
   "source": [
    "data.columns"
   ]
  },
  {
   "cell_type": "code",
   "execution_count": null,
   "id": "02ed47c2",
   "metadata": {},
   "outputs": [],
   "source": [
    "# The no null values found."
   ]
  },
  {
   "cell_type": "code",
   "execution_count": 13,
   "id": "76ce954d",
   "metadata": {},
   "outputs": [
    {
     "data": {
      "text/plain": [
       "Unnamed: 0                 199017\n",
       "country                    199017\n",
       "date                       199017\n",
       "total_cases                199017\n",
       "total_deaths               199017\n",
       "daily_cases                199017\n",
       "daily_deaths               199017\n",
       "fully_vaccinated           199017\n",
       "total_vaccinations         199017\n",
       "total_boosters             199017\n",
       "daily_vaccinations         199017\n",
       "daily_people_vaccinated    199017\n",
       "dtype: int64"
      ]
     },
     "execution_count": 13,
     "metadata": {},
     "output_type": "execute_result"
    }
   ],
   "source": [
    "data.count()"
   ]
  },
  {
   "cell_type": "code",
   "execution_count": 14,
   "id": "47a38bbc",
   "metadata": {},
   "outputs": [],
   "source": [
    "# Find the total covid-19 cases,total vaccinations for each country."
   ]
  },
  {
   "cell_type": "code",
   "execution_count": 15,
   "id": "6c247e79",
   "metadata": {},
   "outputs": [
    {
     "data": {
      "text/html": [
       "<div>\n",
       "<style scoped>\n",
       "    .dataframe tbody tr th:only-of-type {\n",
       "        vertical-align: middle;\n",
       "    }\n",
       "\n",
       "    .dataframe tbody tr th {\n",
       "        vertical-align: top;\n",
       "    }\n",
       "\n",
       "    .dataframe thead th {\n",
       "        text-align: right;\n",
       "    }\n",
       "</style>\n",
       "<table border=\"1\" class=\"dataframe\">\n",
       "  <thead>\n",
       "    <tr style=\"text-align: right;\">\n",
       "      <th></th>\n",
       "      <th>Unnamed: 0</th>\n",
       "      <th>country</th>\n",
       "      <th>date</th>\n",
       "      <th>total_cases</th>\n",
       "      <th>total_deaths</th>\n",
       "      <th>daily_cases</th>\n",
       "      <th>daily_deaths</th>\n",
       "      <th>fully_vaccinated</th>\n",
       "      <th>total_vaccinations</th>\n",
       "      <th>total_boosters</th>\n",
       "      <th>daily_vaccinations</th>\n",
       "      <th>daily_people_vaccinated</th>\n",
       "    </tr>\n",
       "  </thead>\n",
       "  <tbody>\n",
       "    <tr>\n",
       "      <th>0</th>\n",
       "      <td>0</td>\n",
       "      <td>afghanistan</td>\n",
       "      <td>22/01/2020</td>\n",
       "      <td>0</td>\n",
       "      <td>0</td>\n",
       "      <td>0</td>\n",
       "      <td>0</td>\n",
       "      <td>0</td>\n",
       "      <td>0</td>\n",
       "      <td>0</td>\n",
       "      <td>0</td>\n",
       "      <td>0</td>\n",
       "    </tr>\n",
       "    <tr>\n",
       "      <th>1</th>\n",
       "      <td>1</td>\n",
       "      <td>afghanistan</td>\n",
       "      <td>23/01/2020</td>\n",
       "      <td>0</td>\n",
       "      <td>0</td>\n",
       "      <td>0</td>\n",
       "      <td>0</td>\n",
       "      <td>0</td>\n",
       "      <td>0</td>\n",
       "      <td>0</td>\n",
       "      <td>0</td>\n",
       "      <td>0</td>\n",
       "    </tr>\n",
       "  </tbody>\n",
       "</table>\n",
       "</div>"
      ],
      "text/plain": [
       "   Unnamed: 0      country        date  total_cases  total_deaths  \\\n",
       "0           0  afghanistan  22/01/2020            0             0   \n",
       "1           1  afghanistan  23/01/2020            0             0   \n",
       "\n",
       "   daily_cases  daily_deaths  fully_vaccinated  total_vaccinations  \\\n",
       "0            0             0                 0                   0   \n",
       "1            0             0                 0                   0   \n",
       "\n",
       "   total_boosters  daily_vaccinations  daily_people_vaccinated  \n",
       "0               0                   0                        0  \n",
       "1               0                   0                        0  "
      ]
     },
     "execution_count": 15,
     "metadata": {},
     "output_type": "execute_result"
    }
   ],
   "source": [
    "data.head(2)"
   ]
  },
  {
   "cell_type": "code",
   "execution_count": 29,
   "id": "967d19f6",
   "metadata": {},
   "outputs": [
    {
     "name": "stderr",
     "output_type": "stream",
     "text": [
      "C:\\Users\\PC ZED\\AppData\\Local\\Temp\\ipykernel_204\\389601903.py:1: FutureWarning: Indexing with multiple keys (implicitly converted to a tuple of keys) will be deprecated, use a list instead.\n",
      "  data.groupby('country')['total_cases','total_vaccinations'].sum().sort_values(by= 'total_cases',ascending = False).head(10)\n"
     ]
    },
    {
     "data": {
      "text/html": [
       "<div>\n",
       "<style scoped>\n",
       "    .dataframe tbody tr th:only-of-type {\n",
       "        vertical-align: middle;\n",
       "    }\n",
       "\n",
       "    .dataframe tbody tr th {\n",
       "        vertical-align: top;\n",
       "    }\n",
       "\n",
       "    .dataframe thead th {\n",
       "        text-align: right;\n",
       "    }\n",
       "</style>\n",
       "<table border=\"1\" class=\"dataframe\">\n",
       "  <thead>\n",
       "    <tr style=\"text-align: right;\">\n",
       "      <th></th>\n",
       "      <th>total_cases</th>\n",
       "      <th>total_vaccinations</th>\n",
       "    </tr>\n",
       "    <tr>\n",
       "      <th>country</th>\n",
       "      <th></th>\n",
       "      <th></th>\n",
       "    </tr>\n",
       "  </thead>\n",
       "  <tbody>\n",
       "    <tr>\n",
       "      <th>united states</th>\n",
       "      <td>30134305313</td>\n",
       "      <td>211884966614</td>\n",
       "    </tr>\n",
       "    <tr>\n",
       "      <th>united kingdom</th>\n",
       "      <td>29678570904</td>\n",
       "      <td>99041152787</td>\n",
       "    </tr>\n",
       "    <tr>\n",
       "      <th>india</th>\n",
       "      <td>18355220017</td>\n",
       "      <td>518501002566</td>\n",
       "    </tr>\n",
       "    <tr>\n",
       "      <th>brazil</th>\n",
       "      <td>12643618945</td>\n",
       "      <td>125173190771</td>\n",
       "    </tr>\n",
       "    <tr>\n",
       "      <th>france</th>\n",
       "      <td>6898030846</td>\n",
       "      <td>46376215674</td>\n",
       "    </tr>\n",
       "    <tr>\n",
       "      <th>russia</th>\n",
       "      <td>5588756398</td>\n",
       "      <td>50238983293</td>\n",
       "    </tr>\n",
       "    <tr>\n",
       "      <th>germany</th>\n",
       "      <td>5246072353</td>\n",
       "      <td>57894236287</td>\n",
       "    </tr>\n",
       "    <tr>\n",
       "      <th>turkey</th>\n",
       "      <td>4786469622</td>\n",
       "      <td>49336241969</td>\n",
       "    </tr>\n",
       "    <tr>\n",
       "      <th>italy</th>\n",
       "      <td>4392956708</td>\n",
       "      <td>43451647844</td>\n",
       "    </tr>\n",
       "    <tr>\n",
       "      <th>spain</th>\n",
       "      <td>3800830594</td>\n",
       "      <td>31948142280</td>\n",
       "    </tr>\n",
       "  </tbody>\n",
       "</table>\n",
       "</div>"
      ],
      "text/plain": [
       "                total_cases  total_vaccinations\n",
       "country                                        \n",
       "united states   30134305313        211884966614\n",
       "united kingdom  29678570904         99041152787\n",
       "india           18355220017        518501002566\n",
       "brazil          12643618945        125173190771\n",
       "france           6898030846         46376215674\n",
       "russia           5588756398         50238983293\n",
       "germany          5246072353         57894236287\n",
       "turkey           4786469622         49336241969\n",
       "italy            4392956708         43451647844\n",
       "spain            3800830594         31948142280"
      ]
     },
     "execution_count": 29,
     "metadata": {},
     "output_type": "execute_result"
    }
   ],
   "source": [
    "data.groupby('country')['total_cases','total_vaccinations'].sum().sort_values(by= 'total_cases',ascending = False).head(10)"
   ]
  },
  {
   "cell_type": "code",
   "execution_count": 60,
   "id": "b73e840f",
   "metadata": {},
   "outputs": [
    {
     "name": "stderr",
     "output_type": "stream",
     "text": [
      "C:\\Users\\PC ZED\\AppData\\Local\\Temp\\ipykernel_204\\1153865927.py:1: FutureWarning: Indexing with multiple keys (implicitly converted to a tuple of keys) will be deprecated, use a list instead.\n",
      "  data.groupby('country')['total_cases','total_vaccinations'].sum().sort_values(by= 'total_cases',ascending = False).head(10).plot()\n"
     ]
    },
    {
     "data": {
      "text/plain": [
       "<AxesSubplot:xlabel='country'>"
      ]
     },
     "execution_count": 60,
     "metadata": {},
     "output_type": "execute_result"
    },
    {
     "data": {
      "image/png": "[encoded data removed]",
      "text/plain": [
       "<Figure size 432x288 with 1 Axes>"
      ]
     },
     "metadata": {
      "needs_background": "light"
     },
     "output_type": "display_data"
    }
   ],
   "source": [
    "data.groupby('country')['total_cases','total_vaccinations'].sum().sort_values(by= 'total_cases',ascending = False).head(10).plot()"
   ]
  },
  {
   "cell_type": "code",
   "execution_count": 30,
   "id": "e4497602",
   "metadata": {},
   "outputs": [],
   "source": [
    "# Find the total deaths for each country."
   ]
  },
  {
   "cell_type": "code",
   "execution_count": 31,
   "id": "d8677a33",
   "metadata": {},
   "outputs": [
    {
     "data": {
      "text/html": [
       "<div>\n",
       "<style scoped>\n",
       "    .dataframe tbody tr th:only-of-type {\n",
       "        vertical-align: middle;\n",
       "    }\n",
       "\n",
       "    .dataframe tbody tr th {\n",
       "        vertical-align: top;\n",
       "    }\n",
       "\n",
       "    .dataframe thead th {\n",
       "        text-align: right;\n",
       "    }\n",
       "</style>\n",
       "<table border=\"1\" class=\"dataframe\">\n",
       "  <thead>\n",
       "    <tr style=\"text-align: right;\">\n",
       "      <th></th>\n",
       "      <th>Unnamed: 0</th>\n",
       "      <th>country</th>\n",
       "      <th>date</th>\n",
       "      <th>total_cases</th>\n",
       "      <th>total_deaths</th>\n",
       "      <th>daily_cases</th>\n",
       "      <th>daily_deaths</th>\n",
       "      <th>fully_vaccinated</th>\n",
       "      <th>total_vaccinations</th>\n",
       "      <th>total_boosters</th>\n",
       "      <th>daily_vaccinations</th>\n",
       "      <th>daily_people_vaccinated</th>\n",
       "    </tr>\n",
       "  </thead>\n",
       "  <tbody>\n",
       "    <tr>\n",
       "      <th>0</th>\n",
       "      <td>0</td>\n",
       "      <td>afghanistan</td>\n",
       "      <td>22/01/2020</td>\n",
       "      <td>0</td>\n",
       "      <td>0</td>\n",
       "      <td>0</td>\n",
       "      <td>0</td>\n",
       "      <td>0</td>\n",
       "      <td>0</td>\n",
       "      <td>0</td>\n",
       "      <td>0</td>\n",
       "      <td>0</td>\n",
       "    </tr>\n",
       "    <tr>\n",
       "      <th>1</th>\n",
       "      <td>1</td>\n",
       "      <td>afghanistan</td>\n",
       "      <td>23/01/2020</td>\n",
       "      <td>0</td>\n",
       "      <td>0</td>\n",
       "      <td>0</td>\n",
       "      <td>0</td>\n",
       "      <td>0</td>\n",
       "      <td>0</td>\n",
       "      <td>0</td>\n",
       "      <td>0</td>\n",
       "      <td>0</td>\n",
       "    </tr>\n",
       "  </tbody>\n",
       "</table>\n",
       "</div>"
      ],
      "text/plain": [
       "   Unnamed: 0      country        date  total_cases  total_deaths  \\\n",
       "0           0  afghanistan  22/01/2020            0             0   \n",
       "1           1  afghanistan  23/01/2020            0             0   \n",
       "\n",
       "   daily_cases  daily_deaths  fully_vaccinated  total_vaccinations  \\\n",
       "0            0             0                 0                   0   \n",
       "1            0             0                 0                   0   \n",
       "\n",
       "   total_boosters  daily_vaccinations  daily_people_vaccinated  \n",
       "0               0                   0                        0  \n",
       "1               0                   0                        0  "
      ]
     },
     "execution_count": 31,
     "metadata": {},
     "output_type": "execute_result"
    }
   ],
   "source": [
    "data.head(2)"
   ]
  },
  {
   "cell_type": "code",
   "execution_count": 36,
   "id": "a86d7ed2",
   "metadata": {},
   "outputs": [
    {
     "data": {
      "text/plain": [
       "country\n",
       "united states     453841581\n",
       "united kingdom    396618695\n",
       "brazil            321485293\n",
       "india             236832708\n",
       "mexico            161136772\n",
       "russia            128568033\n",
       "peru              118223000\n",
       "italy              84360911\n",
       "france             73453161\n",
       "colombia           66371377\n",
       "iran               65752197\n",
       "indonesia          61839523\n",
       "argentina          59586562\n",
       "germany            58515115\n",
       "spain              56711462\n",
       "poland             47266775\n",
       "south africa       46267915\n",
       "ukraine            41832199\n",
       "turkey             38385134\n",
       "romania            25708843\n",
       "Name: total_deaths, dtype: int64"
      ]
     },
     "execution_count": 36,
     "metadata": {},
     "output_type": "execute_result"
    }
   ],
   "source": [
    "data.groupby('country')['total_deaths'].sum().sort_values(ascending = False).head(20)"
   ]
  },
  {
   "cell_type": "code",
   "execution_count": 37,
   "id": "888f5f1b",
   "metadata": {},
   "outputs": [],
   "source": [
    "# Compare total cases and total deaths for each country."
   ]
  },
  {
   "cell_type": "code",
   "execution_count": 61,
   "id": "22b68b77",
   "metadata": {},
   "outputs": [
    {
     "name": "stderr",
     "output_type": "stream",
     "text": [
      "C:\\Users\\PC ZED\\AppData\\Local\\Temp\\ipykernel_204\\3917173251.py:1: FutureWarning: Indexing with multiple keys (implicitly converted to a tuple of keys) will be deprecated, use a list instead.\n",
      "  data.groupby('country')['total_cases','total_deaths'].sum().sort_values(by = 'total_cases',ascending = False).head(10)\n"
     ]
    },
    {
     "data": {
      "text/html": [
       "<div>\n",
       "<style scoped>\n",
       "    .dataframe tbody tr th:only-of-type {\n",
       "        vertical-align: middle;\n",
       "    }\n",
       "\n",
       "    .dataframe tbody tr th {\n",
       "        vertical-align: top;\n",
       "    }\n",
       "\n",
       "    .dataframe thead th {\n",
       "        text-align: right;\n",
       "    }\n",
       "</style>\n",
       "<table border=\"1\" class=\"dataframe\">\n",
       "  <thead>\n",
       "    <tr style=\"text-align: right;\">\n",
       "      <th></th>\n",
       "      <th>total_cases</th>\n",
       "      <th>total_deaths</th>\n",
       "    </tr>\n",
       "    <tr>\n",
       "      <th>country</th>\n",
       "      <th></th>\n",
       "      <th></th>\n",
       "    </tr>\n",
       "  </thead>\n",
       "  <tbody>\n",
       "    <tr>\n",
       "      <th>united states</th>\n",
       "      <td>30134305313</td>\n",
       "      <td>453841581</td>\n",
       "    </tr>\n",
       "    <tr>\n",
       "      <th>united kingdom</th>\n",
       "      <td>29678570904</td>\n",
       "      <td>396618695</td>\n",
       "    </tr>\n",
       "    <tr>\n",
       "      <th>india</th>\n",
       "      <td>18355220017</td>\n",
       "      <td>236832708</td>\n",
       "    </tr>\n",
       "    <tr>\n",
       "      <th>brazil</th>\n",
       "      <td>12643618945</td>\n",
       "      <td>321485293</td>\n",
       "    </tr>\n",
       "    <tr>\n",
       "      <th>france</th>\n",
       "      <td>6898030846</td>\n",
       "      <td>73453161</td>\n",
       "    </tr>\n",
       "    <tr>\n",
       "      <th>russia</th>\n",
       "      <td>5588756398</td>\n",
       "      <td>128568033</td>\n",
       "    </tr>\n",
       "    <tr>\n",
       "      <th>germany</th>\n",
       "      <td>5246072353</td>\n",
       "      <td>58515115</td>\n",
       "    </tr>\n",
       "    <tr>\n",
       "      <th>turkey</th>\n",
       "      <td>4786469622</td>\n",
       "      <td>38385134</td>\n",
       "    </tr>\n",
       "    <tr>\n",
       "      <th>italy</th>\n",
       "      <td>4392956708</td>\n",
       "      <td>84360911</td>\n",
       "    </tr>\n",
       "    <tr>\n",
       "      <th>spain</th>\n",
       "      <td>3800830594</td>\n",
       "      <td>56711462</td>\n",
       "    </tr>\n",
       "  </tbody>\n",
       "</table>\n",
       "</div>"
      ],
      "text/plain": [
       "                total_cases  total_deaths\n",
       "country                                  \n",
       "united states   30134305313     453841581\n",
       "united kingdom  29678570904     396618695\n",
       "india           18355220017     236832708\n",
       "brazil          12643618945     321485293\n",
       "france           6898030846      73453161\n",
       "russia           5588756398     128568033\n",
       "germany          5246072353      58515115\n",
       "turkey           4786469622      38385134\n",
       "italy            4392956708      84360911\n",
       "spain            3800830594      56711462"
      ]
     },
     "execution_count": 61,
     "metadata": {},
     "output_type": "execute_result"
    }
   ],
   "source": [
    "data.groupby('country')['total_cases','total_deaths'].sum().sort_values(by = 'total_cases',ascending = False).head(10)"
   ]
  },
  {
   "cell_type": "code",
   "execution_count": 62,
   "id": "d4d2fba2",
   "metadata": {},
   "outputs": [
    {
     "name": "stderr",
     "output_type": "stream",
     "text": [
      "C:\\Users\\PC ZED\\AppData\\Local\\Temp\\ipykernel_204\\2537496508.py:1: FutureWarning: Indexing with multiple keys (implicitly converted to a tuple of keys) will be deprecated, use a list instead.\n",
      "  data.groupby('country')['total_cases','total_deaths'].sum().sort_values(by = 'total_cases',ascending = False).head(10).plot()\n"
     ]
    },
    {
     "data": {
      "text/plain": [
       "<AxesSubplot:xlabel='country'>"
      ]
     },
     "execution_count": 62,
     "metadata": {},
     "output_type": "execute_result"
    },
    {
     "data": {
      "image/png": "[encoded data removed]",
      "text/plain": [
       "<Figure size 432x288 with 1 Axes>"
      ]
     },
     "metadata": {
      "needs_background": "light"
     },
     "output_type": "display_data"
    }
   ],
   "source": [
    "data.groupby('country')['total_cases','total_deaths'].sum().sort_values(by = 'total_cases',ascending = False).head(10).plot()"
   ]
  },
  {
   "cell_type": "code",
   "execution_count": 40,
   "id": "eca3533d",
   "metadata": {},
   "outputs": [],
   "source": [
    "# show countries with zero vaccinations."
   ]
  },
  {
   "cell_type": "code",
   "execution_count": 41,
   "id": "54f9018e",
   "metadata": {},
   "outputs": [
    {
     "data": {
      "text/html": [
       "<div>\n",
       "<style scoped>\n",
       "    .dataframe tbody tr th:only-of-type {\n",
       "        vertical-align: middle;\n",
       "    }\n",
       "\n",
       "    .dataframe tbody tr th {\n",
       "        vertical-align: top;\n",
       "    }\n",
       "\n",
       "    .dataframe thead th {\n",
       "        text-align: right;\n",
       "    }\n",
       "</style>\n",
       "<table border=\"1\" class=\"dataframe\">\n",
       "  <thead>\n",
       "    <tr style=\"text-align: right;\">\n",
       "      <th></th>\n",
       "      <th>Unnamed: 0</th>\n",
       "      <th>country</th>\n",
       "      <th>date</th>\n",
       "      <th>total_cases</th>\n",
       "      <th>total_deaths</th>\n",
       "      <th>daily_cases</th>\n",
       "      <th>daily_deaths</th>\n",
       "      <th>fully_vaccinated</th>\n",
       "      <th>total_vaccinations</th>\n",
       "      <th>total_boosters</th>\n",
       "      <th>daily_vaccinations</th>\n",
       "      <th>daily_people_vaccinated</th>\n",
       "    </tr>\n",
       "  </thead>\n",
       "  <tbody>\n",
       "    <tr>\n",
       "      <th>0</th>\n",
       "      <td>0</td>\n",
       "      <td>afghanistan</td>\n",
       "      <td>22/01/2020</td>\n",
       "      <td>0</td>\n",
       "      <td>0</td>\n",
       "      <td>0</td>\n",
       "      <td>0</td>\n",
       "      <td>0</td>\n",
       "      <td>0</td>\n",
       "      <td>0</td>\n",
       "      <td>0</td>\n",
       "      <td>0</td>\n",
       "    </tr>\n",
       "    <tr>\n",
       "      <th>1</th>\n",
       "      <td>1</td>\n",
       "      <td>afghanistan</td>\n",
       "      <td>23/01/2020</td>\n",
       "      <td>0</td>\n",
       "      <td>0</td>\n",
       "      <td>0</td>\n",
       "      <td>0</td>\n",
       "      <td>0</td>\n",
       "      <td>0</td>\n",
       "      <td>0</td>\n",
       "      <td>0</td>\n",
       "      <td>0</td>\n",
       "    </tr>\n",
       "  </tbody>\n",
       "</table>\n",
       "</div>"
      ],
      "text/plain": [
       "   Unnamed: 0      country        date  total_cases  total_deaths  \\\n",
       "0           0  afghanistan  22/01/2020            0             0   \n",
       "1           1  afghanistan  23/01/2020            0             0   \n",
       "\n",
       "   daily_cases  daily_deaths  fully_vaccinated  total_vaccinations  \\\n",
       "0            0             0                 0                   0   \n",
       "1            0             0                 0                   0   \n",
       "\n",
       "   total_boosters  daily_vaccinations  daily_people_vaccinated  \n",
       "0               0                   0                        0  \n",
       "1               0                   0                        0  "
      ]
     },
     "execution_count": 41,
     "metadata": {},
     "output_type": "execute_result"
    }
   ],
   "source": [
    "data.head(2)"
   ]
  },
  {
   "cell_type": "code",
   "execution_count": 55,
   "id": "fe6441dd",
   "metadata": {},
   "outputs": [
    {
     "data": {
      "text/plain": [
       "country\n",
       "afghanistan         0\n",
       "nepal               0\n",
       "netherlands         0\n",
       "new caledonia       0\n",
       "new zealand         0\n",
       "nicaragua           0\n",
       "niger               0\n",
       "nigeria             0\n",
       "niue                0\n",
       "north korea         0\n",
       "north macedonia     0\n",
       "northern cyprus     0\n",
       "norway              0\n",
       "oceania             0\n",
       "oman                0\n",
       "pakistan            0\n",
       "palau               0\n",
       "palestine           0\n",
       "panama              0\n",
       "papua new guinea    0\n",
       "Name: total_vaccinations, dtype: int64"
      ]
     },
     "execution_count": 55,
     "metadata": {},
     "output_type": "execute_result"
    }
   ],
   "source": [
    "data.groupby('country')['total_vaccinations'].sum().sort_values(ascending = True).head(20)"
   ]
  },
  {
   "cell_type": "code",
   "execution_count": 56,
   "id": "766602f8",
   "metadata": {},
   "outputs": [],
   "source": [
    "# countries with full vaccinations"
   ]
  },
  {
   "cell_type": "code",
   "execution_count": 57,
   "id": "9e9c529b",
   "metadata": {},
   "outputs": [
    {
     "data": {
      "text/html": [
       "<div>\n",
       "<style scoped>\n",
       "    .dataframe tbody tr th:only-of-type {\n",
       "        vertical-align: middle;\n",
       "    }\n",
       "\n",
       "    .dataframe tbody tr th {\n",
       "        vertical-align: top;\n",
       "    }\n",
       "\n",
       "    .dataframe thead th {\n",
       "        text-align: right;\n",
       "    }\n",
       "</style>\n",
       "<table border=\"1\" class=\"dataframe\">\n",
       "  <thead>\n",
       "    <tr style=\"text-align: right;\">\n",
       "      <th></th>\n",
       "      <th>Unnamed: 0</th>\n",
       "      <th>country</th>\n",
       "      <th>date</th>\n",
       "      <th>total_cases</th>\n",
       "      <th>total_deaths</th>\n",
       "      <th>daily_cases</th>\n",
       "      <th>daily_deaths</th>\n",
       "      <th>fully_vaccinated</th>\n",
       "      <th>total_vaccinations</th>\n",
       "      <th>total_boosters</th>\n",
       "      <th>daily_vaccinations</th>\n",
       "      <th>daily_people_vaccinated</th>\n",
       "    </tr>\n",
       "  </thead>\n",
       "  <tbody>\n",
       "    <tr>\n",
       "      <th>0</th>\n",
       "      <td>0</td>\n",
       "      <td>afghanistan</td>\n",
       "      <td>22/01/2020</td>\n",
       "      <td>0</td>\n",
       "      <td>0</td>\n",
       "      <td>0</td>\n",
       "      <td>0</td>\n",
       "      <td>0</td>\n",
       "      <td>0</td>\n",
       "      <td>0</td>\n",
       "      <td>0</td>\n",
       "      <td>0</td>\n",
       "    </tr>\n",
       "    <tr>\n",
       "      <th>1</th>\n",
       "      <td>1</td>\n",
       "      <td>afghanistan</td>\n",
       "      <td>23/01/2020</td>\n",
       "      <td>0</td>\n",
       "      <td>0</td>\n",
       "      <td>0</td>\n",
       "      <td>0</td>\n",
       "      <td>0</td>\n",
       "      <td>0</td>\n",
       "      <td>0</td>\n",
       "      <td>0</td>\n",
       "      <td>0</td>\n",
       "    </tr>\n",
       "  </tbody>\n",
       "</table>\n",
       "</div>"
      ],
      "text/plain": [
       "   Unnamed: 0      country        date  total_cases  total_deaths  \\\n",
       "0           0  afghanistan  22/01/2020            0             0   \n",
       "1           1  afghanistan  23/01/2020            0             0   \n",
       "\n",
       "   daily_cases  daily_deaths  fully_vaccinated  total_vaccinations  \\\n",
       "0            0             0                 0                   0   \n",
       "1            0             0                 0                   0   \n",
       "\n",
       "   total_boosters  daily_vaccinations  daily_people_vaccinated  \n",
       "0               0                   0                        0  \n",
       "1               0                   0                        0  "
      ]
     },
     "execution_count": 57,
     "metadata": {},
     "output_type": "execute_result"
    }
   ],
   "source": [
    "data.head(2)"
   ]
  },
  {
   "cell_type": "code",
   "execution_count": 58,
   "id": "81af74ec",
   "metadata": {},
   "outputs": [
    {
     "data": {
      "text/plain": [
       "country\n",
       "india             201639765674\n",
       "united states      88765572693\n",
       "china              55423863669\n",
       "brazil             44678192386\n",
       "united kingdom     37589772560\n",
       "Name: fully_vaccinated, dtype: int64"
      ]
     },
     "execution_count": 58,
     "metadata": {},
     "output_type": "execute_result"
    }
   ],
   "source": [
    "data.groupby('country')['fully_vaccinated'].sum().sort_values(ascending = False).head()"
   ]
  },
  {
   "cell_type": "code",
   "execution_count": 59,
   "id": "9e3d1049",
   "metadata": {},
   "outputs": [
    {
     "data": {
      "text/plain": [
       "<AxesSubplot:xlabel='country'>"
      ]
     },
     "execution_count": 59,
     "metadata": {},
     "output_type": "execute_result"
    },
    {
     "data": {
      "image/png": "[encoded data removed]",
      "text/plain": [
       "<Figure size 432x288 with 1 Axes>"
      ]
     },
     "metadata": {
      "needs_background": "light"
     },
     "output_type": "display_data"
    }
   ],
   "source": [
    "data.groupby('country')['fully_vaccinated'].sum().sort_values(ascending = False).head().plot()"
   ]
  },
  {
   "cell_type": "code",
   "execution_count": 63,
   "id": "15407a4e",
   "metadata": {},
   "outputs": [
    {
     "data": {
      "text/html": [
       "<div>\n",
       "<style scoped>\n",
       "    .dataframe tbody tr th:only-of-type {\n",
       "        vertical-align: middle;\n",
       "    }\n",
       "\n",
       "    .dataframe tbody tr th {\n",
       "        vertical-align: top;\n",
       "    }\n",
       "\n",
       "    .dataframe thead th {\n",
       "        text-align: right;\n",
       "    }\n",
       "</style>\n",
       "<table border=\"1\" class=\"dataframe\">\n",
       "  <thead>\n",
       "    <tr style=\"text-align: right;\">\n",
       "      <th></th>\n",
       "      <th>Unnamed: 0</th>\n",
       "      <th>country</th>\n",
       "      <th>date</th>\n",
       "      <th>total_cases</th>\n",
       "      <th>total_deaths</th>\n",
       "      <th>daily_cases</th>\n",
       "      <th>daily_deaths</th>\n",
       "      <th>fully_vaccinated</th>\n",
       "      <th>total_vaccinations</th>\n",
       "      <th>total_boosters</th>\n",
       "      <th>daily_vaccinations</th>\n",
       "      <th>daily_people_vaccinated</th>\n",
       "    </tr>\n",
       "  </thead>\n",
       "  <tbody>\n",
       "    <tr>\n",
       "      <th>0</th>\n",
       "      <td>0</td>\n",
       "      <td>afghanistan</td>\n",
       "      <td>22/01/2020</td>\n",
       "      <td>0</td>\n",
       "      <td>0</td>\n",
       "      <td>0</td>\n",
       "      <td>0</td>\n",
       "      <td>0</td>\n",
       "      <td>0</td>\n",
       "      <td>0</td>\n",
       "      <td>0</td>\n",
       "      <td>0</td>\n",
       "    </tr>\n",
       "    <tr>\n",
       "      <th>1</th>\n",
       "      <td>1</td>\n",
       "      <td>afghanistan</td>\n",
       "      <td>23/01/2020</td>\n",
       "      <td>0</td>\n",
       "      <td>0</td>\n",
       "      <td>0</td>\n",
       "      <td>0</td>\n",
       "      <td>0</td>\n",
       "      <td>0</td>\n",
       "      <td>0</td>\n",
       "      <td>0</td>\n",
       "      <td>0</td>\n",
       "    </tr>\n",
       "  </tbody>\n",
       "</table>\n",
       "</div>"
      ],
      "text/plain": [
       "   Unnamed: 0      country        date  total_cases  total_deaths  \\\n",
       "0           0  afghanistan  22/01/2020            0             0   \n",
       "1           1  afghanistan  23/01/2020            0             0   \n",
       "\n",
       "   daily_cases  daily_deaths  fully_vaccinated  total_vaccinations  \\\n",
       "0            0             0                 0                   0   \n",
       "1            0             0                 0                   0   \n",
       "\n",
       "   total_boosters  daily_vaccinations  daily_people_vaccinated  \n",
       "0               0                   0                        0  \n",
       "1               0                   0                        0  "
      ]
     },
     "execution_count": 63,
     "metadata": {},
     "output_type": "execute_result"
    }
   ],
   "source": [
    "data.head(2)"
   ]
  },
  {
   "cell_type": "code",
   "execution_count": 64,
   "id": "84933fa4",
   "metadata": {},
   "outputs": [],
   "source": [
    "# compare the total covid cases for each country"
   ]
  },
  {
   "cell_type": "code",
   "execution_count": 71,
   "id": "f6a13bb0",
   "metadata": {},
   "outputs": [
    {
     "data": {
      "text/html": [
       "<div>\n",
       "<style scoped>\n",
       "    .dataframe tbody tr th:only-of-type {\n",
       "        vertical-align: middle;\n",
       "    }\n",
       "\n",
       "    .dataframe tbody tr th {\n",
       "        vertical-align: top;\n",
       "    }\n",
       "\n",
       "    .dataframe thead th {\n",
       "        text-align: right;\n",
       "    }\n",
       "</style>\n",
       "<table border=\"1\" class=\"dataframe\">\n",
       "  <thead>\n",
       "    <tr style=\"text-align: right;\">\n",
       "      <th></th>\n",
       "      <th>count</th>\n",
       "      <th>mean</th>\n",
       "      <th>std</th>\n",
       "      <th>min</th>\n",
       "      <th>25%</th>\n",
       "      <th>50%</th>\n",
       "      <th>75%</th>\n",
       "      <th>max</th>\n",
       "    </tr>\n",
       "    <tr>\n",
       "      <th>country</th>\n",
       "      <th></th>\n",
       "      <th></th>\n",
       "      <th></th>\n",
       "      <th></th>\n",
       "      <th></th>\n",
       "      <th></th>\n",
       "      <th></th>\n",
       "      <th></th>\n",
       "    </tr>\n",
       "  </thead>\n",
       "  <tbody>\n",
       "    <tr>\n",
       "      <th>afghanistan</th>\n",
       "      <td>901.0</td>\n",
       "      <td>9.030646e+04</td>\n",
       "      <td>6.551606e+04</td>\n",
       "      <td>0.0</td>\n",
       "      <td>38374.0</td>\n",
       "      <td>57612.0</td>\n",
       "      <td>157190.0</td>\n",
       "      <td>183265.0</td>\n",
       "    </tr>\n",
       "    <tr>\n",
       "      <th>albania</th>\n",
       "      <td>901.0</td>\n",
       "      <td>1.175817e+05</td>\n",
       "      <td>1.004278e+05</td>\n",
       "      <td>0.0</td>\n",
       "      <td>9844.0</td>\n",
       "      <td>129307.0</td>\n",
       "      <td>199137.0</td>\n",
       "      <td>287984.0</td>\n",
       "    </tr>\n",
       "    <tr>\n",
       "      <th>algeria</th>\n",
       "      <td>901.0</td>\n",
       "      <td>1.301855e+05</td>\n",
       "      <td>9.337134e+04</td>\n",
       "      <td>0.0</td>\n",
       "      <td>45469.0</td>\n",
       "      <td>119323.0</td>\n",
       "      <td>209980.0</td>\n",
       "      <td>266257.0</td>\n",
       "    </tr>\n",
       "    <tr>\n",
       "      <th>andorra</th>\n",
       "      <td>901.0</td>\n",
       "      <td>1.468123e+04</td>\n",
       "      <td>1.408940e+04</td>\n",
       "      <td>0.0</td>\n",
       "      <td>1199.0</td>\n",
       "      <td>12712.0</td>\n",
       "      <td>16712.0</td>\n",
       "      <td>44671.0</td>\n",
       "    </tr>\n",
       "    <tr>\n",
       "      <th>angola</th>\n",
       "      <td>901.0</td>\n",
       "      <td>3.874176e+04</td>\n",
       "      <td>3.682109e+04</td>\n",
       "      <td>0.0</td>\n",
       "      <td>2805.0</td>\n",
       "      <td>24122.0</td>\n",
       "      <td>65139.0</td>\n",
       "      <td>101320.0</td>\n",
       "    </tr>\n",
       "    <tr>\n",
       "      <th>...</th>\n",
       "      <td>...</td>\n",
       "      <td>...</td>\n",
       "      <td>...</td>\n",
       "      <td>...</td>\n",
       "      <td>...</td>\n",
       "      <td>...</td>\n",
       "      <td>...</td>\n",
       "      <td>...</td>\n",
       "    </tr>\n",
       "    <tr>\n",
       "      <th>venezuela</th>\n",
       "      <td>901.0</td>\n",
       "      <td>2.321153e+05</td>\n",
       "      <td>1.933971e+05</td>\n",
       "      <td>0.0</td>\n",
       "      <td>49877.0</td>\n",
       "      <td>180609.0</td>\n",
       "      <td>430046.0</td>\n",
       "      <td>528292.0</td>\n",
       "    </tr>\n",
       "    <tr>\n",
       "      <th>vietnam</th>\n",
       "      <td>901.0</td>\n",
       "      <td>1.722456e+06</td>\n",
       "      <td>3.443773e+06</td>\n",
       "      <td>0.0</td>\n",
       "      <td>1046.0</td>\n",
       "      <td>2772.0</td>\n",
       "      <td>1197404.0</td>\n",
       "      <td>10754813.0</td>\n",
       "    </tr>\n",
       "    <tr>\n",
       "      <th>yemen</th>\n",
       "      <td>901.0</td>\n",
       "      <td>5.541135e+03</td>\n",
       "      <td>4.363303e+03</td>\n",
       "      <td>0.0</td>\n",
       "      <td>1979.0</td>\n",
       "      <td>5715.0</td>\n",
       "      <td>9981.0</td>\n",
       "      <td>11832.0</td>\n",
       "    </tr>\n",
       "    <tr>\n",
       "      <th>zambia</th>\n",
       "      <td>901.0</td>\n",
       "      <td>1.275585e+05</td>\n",
       "      <td>1.216748e+05</td>\n",
       "      <td>0.0</td>\n",
       "      <td>12523.0</td>\n",
       "      <td>90750.0</td>\n",
       "      <td>210138.0</td>\n",
       "      <td>327052.0</td>\n",
       "    </tr>\n",
       "    <tr>\n",
       "      <th>zimbabwe</th>\n",
       "      <td>901.0</td>\n",
       "      <td>8.628670e+04</td>\n",
       "      <td>9.436341e+04</td>\n",
       "      <td>0.0</td>\n",
       "      <td>6678.0</td>\n",
       "      <td>37534.0</td>\n",
       "      <td>133836.0</td>\n",
       "      <td>255939.0</td>\n",
       "    </tr>\n",
       "  </tbody>\n",
       "</table>\n",
       "<p>216 rows × 8 columns</p>\n",
       "</div>"
      ],
      "text/plain": [
       "             count          mean           std  min      25%       50%  \\\n",
       "country                                                                  \n",
       "afghanistan  901.0  9.030646e+04  6.551606e+04  0.0  38374.0   57612.0   \n",
       "albania      901.0  1.175817e+05  1.004278e+05  0.0   9844.0  129307.0   \n",
       "algeria      901.0  1.301855e+05  9.337134e+04  0.0  45469.0  119323.0   \n",
       "andorra      901.0  1.468123e+04  1.408940e+04  0.0   1199.0   12712.0   \n",
       "angola       901.0  3.874176e+04  3.682109e+04  0.0   2805.0   24122.0   \n",
       "...            ...           ...           ...  ...      ...       ...   \n",
       "venezuela    901.0  2.321153e+05  1.933971e+05  0.0  49877.0  180609.0   \n",
       "vietnam      901.0  1.722456e+06  3.443773e+06  0.0   1046.0    2772.0   \n",
       "yemen        901.0  5.541135e+03  4.363303e+03  0.0   1979.0    5715.0   \n",
       "zambia       901.0  1.275585e+05  1.216748e+05  0.0  12523.0   90750.0   \n",
       "zimbabwe     901.0  8.628670e+04  9.436341e+04  0.0   6678.0   37534.0   \n",
       "\n",
       "                   75%         max  \n",
       "country                             \n",
       "afghanistan   157190.0    183265.0  \n",
       "albania       199137.0    287984.0  \n",
       "algeria       209980.0    266257.0  \n",
       "andorra        16712.0     44671.0  \n",
       "angola         65139.0    101320.0  \n",
       "...                ...         ...  \n",
       "venezuela     430046.0    528292.0  \n",
       "vietnam      1197404.0  10754813.0  \n",
       "yemen           9981.0     11832.0  \n",
       "zambia        210138.0    327052.0  \n",
       "zimbabwe      133836.0    255939.0  \n",
       "\n",
       "[216 rows x 8 columns]"
      ]
     },
     "execution_count": 71,
     "metadata": {},
     "output_type": "execute_result"
    }
   ],
   "source": [
    "data.groupby('country')['total_cases'].describe()"
   ]
  },
  {
   "cell_type": "code",
   "execution_count": 72,
   "id": "a46e723a",
   "metadata": {},
   "outputs": [],
   "source": [
    "#  vaccinations and booster shots sums of different countries"
   ]
  },
  {
   "cell_type": "code",
   "execution_count": 74,
   "id": "a33714f9",
   "metadata": {},
   "outputs": [
    {
     "data": {
      "text/html": [
       "<div>\n",
       "<style scoped>\n",
       "    .dataframe tbody tr th:only-of-type {\n",
       "        vertical-align: middle;\n",
       "    }\n",
       "\n",
       "    .dataframe tbody tr th {\n",
       "        vertical-align: top;\n",
       "    }\n",
       "\n",
       "    .dataframe thead th {\n",
       "        text-align: right;\n",
       "    }\n",
       "</style>\n",
       "<table border=\"1\" class=\"dataframe\">\n",
       "  <thead>\n",
       "    <tr style=\"text-align: right;\">\n",
       "      <th></th>\n",
       "      <th>Unnamed: 0</th>\n",
       "      <th>country</th>\n",
       "      <th>date</th>\n",
       "      <th>total_cases</th>\n",
       "      <th>total_deaths</th>\n",
       "      <th>daily_cases</th>\n",
       "      <th>daily_deaths</th>\n",
       "      <th>fully_vaccinated</th>\n",
       "      <th>total_vaccinations</th>\n",
       "      <th>total_boosters</th>\n",
       "      <th>daily_vaccinations</th>\n",
       "      <th>daily_people_vaccinated</th>\n",
       "    </tr>\n",
       "  </thead>\n",
       "  <tbody>\n",
       "    <tr>\n",
       "      <th>0</th>\n",
       "      <td>0</td>\n",
       "      <td>afghanistan</td>\n",
       "      <td>22/01/2020</td>\n",
       "      <td>0</td>\n",
       "      <td>0</td>\n",
       "      <td>0</td>\n",
       "      <td>0</td>\n",
       "      <td>0</td>\n",
       "      <td>0</td>\n",
       "      <td>0</td>\n",
       "      <td>0</td>\n",
       "      <td>0</td>\n",
       "    </tr>\n",
       "    <tr>\n",
       "      <th>1</th>\n",
       "      <td>1</td>\n",
       "      <td>afghanistan</td>\n",
       "      <td>23/01/2020</td>\n",
       "      <td>0</td>\n",
       "      <td>0</td>\n",
       "      <td>0</td>\n",
       "      <td>0</td>\n",
       "      <td>0</td>\n",
       "      <td>0</td>\n",
       "      <td>0</td>\n",
       "      <td>0</td>\n",
       "      <td>0</td>\n",
       "    </tr>\n",
       "  </tbody>\n",
       "</table>\n",
       "</div>"
      ],
      "text/plain": [
       "   Unnamed: 0      country        date  total_cases  total_deaths  \\\n",
       "0           0  afghanistan  22/01/2020            0             0   \n",
       "1           1  afghanistan  23/01/2020            0             0   \n",
       "\n",
       "   daily_cases  daily_deaths  fully_vaccinated  total_vaccinations  \\\n",
       "0            0             0                 0                   0   \n",
       "1            0             0                 0                   0   \n",
       "\n",
       "   total_boosters  daily_vaccinations  daily_people_vaccinated  \n",
       "0               0                   0                        0  \n",
       "1               0                   0                        0  "
      ]
     },
     "execution_count": 74,
     "metadata": {},
     "output_type": "execute_result"
    }
   ],
   "source": [
    "data.head(2)"
   ]
  },
  {
   "cell_type": "code",
   "execution_count": 90,
   "id": "962771bb",
   "metadata": {},
   "outputs": [
    {
     "name": "stderr",
     "output_type": "stream",
     "text": [
      "C:\\Users\\PC ZED\\AppData\\Local\\Temp\\ipykernel_204\\3672033496.py:1: FutureWarning: Indexing with multiple keys (implicitly converted to a tuple of keys) will be deprecated, use a list instead.\n",
      "  data.groupby('country')['total_vaccinations','total_boosters'].sum().head()\n"
     ]
    },
    {
     "data": {
      "text/html": [
       "<div>\n",
       "<style scoped>\n",
       "    .dataframe tbody tr th:only-of-type {\n",
       "        vertical-align: middle;\n",
       "    }\n",
       "\n",
       "    .dataframe tbody tr th {\n",
       "        vertical-align: top;\n",
       "    }\n",
       "\n",
       "    .dataframe thead th {\n",
       "        text-align: right;\n",
       "    }\n",
       "</style>\n",
       "<table border=\"1\" class=\"dataframe\">\n",
       "  <thead>\n",
       "    <tr style=\"text-align: right;\">\n",
       "      <th></th>\n",
       "      <th>total_vaccinations</th>\n",
       "      <th>total_boosters</th>\n",
       "    </tr>\n",
       "    <tr>\n",
       "      <th>country</th>\n",
       "      <th></th>\n",
       "      <th></th>\n",
       "    </tr>\n",
       "  </thead>\n",
       "  <tbody>\n",
       "    <tr>\n",
       "      <th>afghanistan</th>\n",
       "      <td>0</td>\n",
       "      <td>0</td>\n",
       "    </tr>\n",
       "    <tr>\n",
       "      <th>albania</th>\n",
       "      <td>0</td>\n",
       "      <td>10857973</td>\n",
       "    </tr>\n",
       "    <tr>\n",
       "      <th>algeria</th>\n",
       "      <td>0</td>\n",
       "      <td>3330342</td>\n",
       "    </tr>\n",
       "    <tr>\n",
       "      <th>andorra</th>\n",
       "      <td>0</td>\n",
       "      <td>414723</td>\n",
       "    </tr>\n",
       "    <tr>\n",
       "      <th>angola</th>\n",
       "      <td>0</td>\n",
       "      <td>4056279</td>\n",
       "    </tr>\n",
       "  </tbody>\n",
       "</table>\n",
       "</div>"
      ],
      "text/plain": [
       "             total_vaccinations  total_boosters\n",
       "country                                        \n",
       "afghanistan                   0               0\n",
       "albania                       0        10857973\n",
       "algeria                       0         3330342\n",
       "andorra                       0          414723\n",
       "angola                        0         4056279"
      ]
     },
     "execution_count": 90,
     "metadata": {},
     "output_type": "execute_result"
    }
   ],
   "source": [
    "data.groupby('country')['total_vaccinations','total_boosters'].sum().head()"
   ]
  },
  {
   "cell_type": "code",
   "execution_count": 89,
   "id": "d90daa83",
   "metadata": {},
   "outputs": [
    {
     "name": "stderr",
     "output_type": "stream",
     "text": [
      "C:\\Users\\PC ZED\\AppData\\Local\\Temp\\ipykernel_204\\1356238580.py:1: FutureWarning: Indexing with multiple keys (implicitly converted to a tuple of keys) will be deprecated, use a list instead.\n",
      "  data.groupby('country')['total_vaccinations','total_boosters'].sum().head().plot()\n"
     ]
    },
    {
     "data": {
      "text/plain": [
       "<AxesSubplot:xlabel='country'>"
      ]
     },
     "execution_count": 89,
     "metadata": {},
     "output_type": "execute_result"
    },
    {
     "data": {
      "image/png": "[encoded data removed]",
      "text/plain": [
       "<Figure size 432x288 with 1 Axes>"
      ]
     },
     "metadata": {
      "needs_background": "light"
     },
     "output_type": "display_data"
    }
   ],
   "source": [
    "data.groupby('country')['total_vaccinations','total_boosters'].sum().head().plot()"
   ]
  },
  {
   "cell_type": "code",
   "execution_count": null,
   "id": "c408652e",
   "metadata": {},
   "outputs": [],
   "source": []
  }
 ],
 "metadata": {
  "kernelspec": {
   "display_name": "Python 3 (ipykernel)",
   "language": "python",
   "name": "python3"
  },
  "language_info": {
   "codemirror_mode": {
    "name": "ipython",
    "version": 3
   },
   "file_extension": ".py",
   "mimetype": "text/x-python",
   "name": "python",
   "nbconvert_exporter": "python",
   "pygments_lexer": "ipython3",
   "version": "3.9.12"
  }
 },
 "nbformat": 4,
 "nbformat_minor": 5
}
