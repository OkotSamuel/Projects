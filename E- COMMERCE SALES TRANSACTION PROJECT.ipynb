{
 "cells": [
  {
   "cell_type": "markdown",
   "id": "47129335",
   "metadata": {},
   "source": [
    "# E- COMMERCE SALES TRANSACTION"
   ]
  },
  {
   "cell_type": "markdown",
   "id": "a591d2ef",
   "metadata": {},
   "source": [
    "In this project, i will analyse over 500,000 sales transactions."
   ]
  },
  {
   "cell_type": "markdown",
   "id": "62ead17d",
   "metadata": {},
   "source": [
    "Importing the required packages for analysing the data."
   ]
  },
  {
   "cell_type": "code",
   "execution_count": 1,
   "id": "f6b18fd7",
   "metadata": {},
   "outputs": [],
   "source": [
    "import pandas as pd"
   ]
  },
  {
   "cell_type": "code",
   "execution_count": 2,
   "id": "c7e51587",
   "metadata": {},
   "outputs": [],
   "source": [
    "df = pd.read_csv(r'C:\\Users\\PC ZED\\Desktop\\DATA SETS\\Sales Transaction v.4a.csv')"
   ]
  },
  {
   "cell_type": "markdown",
   "id": "f9fe50f9",
   "metadata": {},
   "source": [
    "Looking at five sales transactions."
   ]
  },
  {
   "cell_type": "code",
   "execution_count": 3,
   "id": "76b9d6a6",
   "metadata": {},
   "outputs": [
    {
     "data": {
      "text/html": [
       "<div>\n",
       "<style scoped>\n",
       "    .dataframe tbody tr th:only-of-type {\n",
       "        vertical-align: middle;\n",
       "    }\n",
       "\n",
       "    .dataframe tbody tr th {\n",
       "        vertical-align: top;\n",
       "    }\n",
       "\n",
       "    .dataframe thead th {\n",
       "        text-align: right;\n",
       "    }\n",
       "</style>\n",
       "<table border=\"1\" class=\"dataframe\">\n",
       "  <thead>\n",
       "    <tr style=\"text-align: right;\">\n",
       "      <th></th>\n",
       "      <th>TransactionNo</th>\n",
       "      <th>Date</th>\n",
       "      <th>ProductNo</th>\n",
       "      <th>ProductName</th>\n",
       "      <th>Price</th>\n",
       "      <th>Quantity</th>\n",
       "      <th>CustomerNo</th>\n",
       "      <th>Country</th>\n",
       "    </tr>\n",
       "  </thead>\n",
       "  <tbody>\n",
       "    <tr>\n",
       "      <th>0</th>\n",
       "      <td>581482</td>\n",
       "      <td>12/9/2019</td>\n",
       "      <td>22485</td>\n",
       "      <td>Set Of 2 Wooden Market Crates</td>\n",
       "      <td>21.47</td>\n",
       "      <td>12</td>\n",
       "      <td>17490.0</td>\n",
       "      <td>United Kingdom</td>\n",
       "    </tr>\n",
       "    <tr>\n",
       "      <th>1</th>\n",
       "      <td>581475</td>\n",
       "      <td>12/9/2019</td>\n",
       "      <td>22596</td>\n",
       "      <td>Christmas Star Wish List Chalkboard</td>\n",
       "      <td>10.65</td>\n",
       "      <td>36</td>\n",
       "      <td>13069.0</td>\n",
       "      <td>United Kingdom</td>\n",
       "    </tr>\n",
       "    <tr>\n",
       "      <th>2</th>\n",
       "      <td>581475</td>\n",
       "      <td>12/9/2019</td>\n",
       "      <td>23235</td>\n",
       "      <td>Storage Tin Vintage Leaf</td>\n",
       "      <td>11.53</td>\n",
       "      <td>12</td>\n",
       "      <td>13069.0</td>\n",
       "      <td>United Kingdom</td>\n",
       "    </tr>\n",
       "    <tr>\n",
       "      <th>3</th>\n",
       "      <td>581475</td>\n",
       "      <td>12/9/2019</td>\n",
       "      <td>23272</td>\n",
       "      <td>Tree T-Light Holder Willie Winkie</td>\n",
       "      <td>10.65</td>\n",
       "      <td>12</td>\n",
       "      <td>13069.0</td>\n",
       "      <td>United Kingdom</td>\n",
       "    </tr>\n",
       "    <tr>\n",
       "      <th>4</th>\n",
       "      <td>581475</td>\n",
       "      <td>12/9/2019</td>\n",
       "      <td>23239</td>\n",
       "      <td>Set Of 4 Knick Knack Tins Poppies</td>\n",
       "      <td>11.94</td>\n",
       "      <td>6</td>\n",
       "      <td>13069.0</td>\n",
       "      <td>United Kingdom</td>\n",
       "    </tr>\n",
       "  </tbody>\n",
       "</table>\n",
       "</div>"
      ],
      "text/plain": [
       "  TransactionNo       Date ProductNo                          ProductName  \\\n",
       "0        581482  12/9/2019     22485        Set Of 2 Wooden Market Crates   \n",
       "1        581475  12/9/2019     22596  Christmas Star Wish List Chalkboard   \n",
       "2        581475  12/9/2019     23235             Storage Tin Vintage Leaf   \n",
       "3        581475  12/9/2019     23272    Tree T-Light Holder Willie Winkie   \n",
       "4        581475  12/9/2019     23239    Set Of 4 Knick Knack Tins Poppies   \n",
       "\n",
       "   Price  Quantity  CustomerNo         Country  \n",
       "0  21.47        12     17490.0  United Kingdom  \n",
       "1  10.65        36     13069.0  United Kingdom  \n",
       "2  11.53        12     13069.0  United Kingdom  \n",
       "3  10.65        12     13069.0  United Kingdom  \n",
       "4  11.94         6     13069.0  United Kingdom  "
      ]
     },
     "execution_count": 3,
     "metadata": {},
     "output_type": "execute_result"
    }
   ],
   "source": [
    "df.head()"
   ]
  },
  {
   "cell_type": "code",
   "execution_count": 4,
   "id": "d2696489",
   "metadata": {},
   "outputs": [
    {
     "data": {
      "text/html": [
       "<div>\n",
       "<style scoped>\n",
       "    .dataframe tbody tr th:only-of-type {\n",
       "        vertical-align: middle;\n",
       "    }\n",
       "\n",
       "    .dataframe tbody tr th {\n",
       "        vertical-align: top;\n",
       "    }\n",
       "\n",
       "    .dataframe thead th {\n",
       "        text-align: right;\n",
       "    }\n",
       "</style>\n",
       "<table border=\"1\" class=\"dataframe\">\n",
       "  <thead>\n",
       "    <tr style=\"text-align: right;\">\n",
       "      <th></th>\n",
       "      <th>TransactionNo</th>\n",
       "      <th>Date</th>\n",
       "      <th>ProductNo</th>\n",
       "      <th>ProductName</th>\n",
       "      <th>Price</th>\n",
       "      <th>Quantity</th>\n",
       "      <th>CustomerNo</th>\n",
       "      <th>Country</th>\n",
       "    </tr>\n",
       "  </thead>\n",
       "  <tbody>\n",
       "    <tr>\n",
       "      <th>536345</th>\n",
       "      <td>C536548</td>\n",
       "      <td>12/1/2018</td>\n",
       "      <td>22168</td>\n",
       "      <td>Organiser Wood Antique White</td>\n",
       "      <td>18.96</td>\n",
       "      <td>-2</td>\n",
       "      <td>12472.0</td>\n",
       "      <td>Germany</td>\n",
       "    </tr>\n",
       "    <tr>\n",
       "      <th>536346</th>\n",
       "      <td>C536548</td>\n",
       "      <td>12/1/2018</td>\n",
       "      <td>21218</td>\n",
       "      <td>Red Spotty Biscuit Tin</td>\n",
       "      <td>14.09</td>\n",
       "      <td>-3</td>\n",
       "      <td>12472.0</td>\n",
       "      <td>Germany</td>\n",
       "    </tr>\n",
       "    <tr>\n",
       "      <th>536347</th>\n",
       "      <td>C536548</td>\n",
       "      <td>12/1/2018</td>\n",
       "      <td>20957</td>\n",
       "      <td>Porcelain Hanging Bell Small</td>\n",
       "      <td>11.74</td>\n",
       "      <td>-1</td>\n",
       "      <td>12472.0</td>\n",
       "      <td>Germany</td>\n",
       "    </tr>\n",
       "    <tr>\n",
       "      <th>536348</th>\n",
       "      <td>C536548</td>\n",
       "      <td>12/1/2018</td>\n",
       "      <td>22580</td>\n",
       "      <td>Advent Calendar Gingham Sack</td>\n",
       "      <td>16.35</td>\n",
       "      <td>-4</td>\n",
       "      <td>12472.0</td>\n",
       "      <td>Germany</td>\n",
       "    </tr>\n",
       "    <tr>\n",
       "      <th>536349</th>\n",
       "      <td>C536548</td>\n",
       "      <td>12/1/2018</td>\n",
       "      <td>22767</td>\n",
       "      <td>Triple Photo Frame Cornice</td>\n",
       "      <td>20.45</td>\n",
       "      <td>-2</td>\n",
       "      <td>12472.0</td>\n",
       "      <td>Germany</td>\n",
       "    </tr>\n",
       "  </tbody>\n",
       "</table>\n",
       "</div>"
      ],
      "text/plain": [
       "       TransactionNo       Date ProductNo                   ProductName  \\\n",
       "536345       C536548  12/1/2018     22168  Organiser Wood Antique White   \n",
       "536346       C536548  12/1/2018     21218        Red Spotty Biscuit Tin   \n",
       "536347       C536548  12/1/2018     20957  Porcelain Hanging Bell Small   \n",
       "536348       C536548  12/1/2018     22580  Advent Calendar Gingham Sack   \n",
       "536349       C536548  12/1/2018     22767    Triple Photo Frame Cornice   \n",
       "\n",
       "        Price  Quantity  CustomerNo  Country  \n",
       "536345  18.96        -2     12472.0  Germany  \n",
       "536346  14.09        -3     12472.0  Germany  \n",
       "536347  11.74        -1     12472.0  Germany  \n",
       "536348  16.35        -4     12472.0  Germany  \n",
       "536349  20.45        -2     12472.0  Germany  "
      ]
     },
     "execution_count": 4,
     "metadata": {},
     "output_type": "execute_result"
    }
   ],
   "source": [
    "df.tail()"
   ]
  },
  {
   "cell_type": "markdown",
   "id": "12785282",
   "metadata": {},
   "source": [
    "Inserting a column for the sales."
   ]
  },
  {
   "cell_type": "code",
   "execution_count": 5,
   "id": "29dc11c2",
   "metadata": {},
   "outputs": [],
   "source": [
    "df.insert(6,'Sales',df['Price']*df['Quantity'])"
   ]
  },
  {
   "cell_type": "code",
   "execution_count": 6,
   "id": "059d0404",
   "metadata": {},
   "outputs": [
    {
     "data": {
      "text/html": [
       "<div>\n",
       "<style scoped>\n",
       "    .dataframe tbody tr th:only-of-type {\n",
       "        vertical-align: middle;\n",
       "    }\n",
       "\n",
       "    .dataframe tbody tr th {\n",
       "        vertical-align: top;\n",
       "    }\n",
       "\n",
       "    .dataframe thead th {\n",
       "        text-align: right;\n",
       "    }\n",
       "</style>\n",
       "<table border=\"1\" class=\"dataframe\">\n",
       "  <thead>\n",
       "    <tr style=\"text-align: right;\">\n",
       "      <th></th>\n",
       "      <th>TransactionNo</th>\n",
       "      <th>Date</th>\n",
       "      <th>ProductNo</th>\n",
       "      <th>ProductName</th>\n",
       "      <th>Price</th>\n",
       "      <th>Quantity</th>\n",
       "      <th>Sales</th>\n",
       "      <th>CustomerNo</th>\n",
       "      <th>Country</th>\n",
       "    </tr>\n",
       "  </thead>\n",
       "  <tbody>\n",
       "    <tr>\n",
       "      <th>0</th>\n",
       "      <td>581482</td>\n",
       "      <td>12/9/2019</td>\n",
       "      <td>22485</td>\n",
       "      <td>Set Of 2 Wooden Market Crates</td>\n",
       "      <td>21.47</td>\n",
       "      <td>12</td>\n",
       "      <td>257.64</td>\n",
       "      <td>17490.0</td>\n",
       "      <td>United Kingdom</td>\n",
       "    </tr>\n",
       "    <tr>\n",
       "      <th>1</th>\n",
       "      <td>581475</td>\n",
       "      <td>12/9/2019</td>\n",
       "      <td>22596</td>\n",
       "      <td>Christmas Star Wish List Chalkboard</td>\n",
       "      <td>10.65</td>\n",
       "      <td>36</td>\n",
       "      <td>383.40</td>\n",
       "      <td>13069.0</td>\n",
       "      <td>United Kingdom</td>\n",
       "    </tr>\n",
       "    <tr>\n",
       "      <th>2</th>\n",
       "      <td>581475</td>\n",
       "      <td>12/9/2019</td>\n",
       "      <td>23235</td>\n",
       "      <td>Storage Tin Vintage Leaf</td>\n",
       "      <td>11.53</td>\n",
       "      <td>12</td>\n",
       "      <td>138.36</td>\n",
       "      <td>13069.0</td>\n",
       "      <td>United Kingdom</td>\n",
       "    </tr>\n",
       "    <tr>\n",
       "      <th>3</th>\n",
       "      <td>581475</td>\n",
       "      <td>12/9/2019</td>\n",
       "      <td>23272</td>\n",
       "      <td>Tree T-Light Holder Willie Winkie</td>\n",
       "      <td>10.65</td>\n",
       "      <td>12</td>\n",
       "      <td>127.80</td>\n",
       "      <td>13069.0</td>\n",
       "      <td>United Kingdom</td>\n",
       "    </tr>\n",
       "    <tr>\n",
       "      <th>4</th>\n",
       "      <td>581475</td>\n",
       "      <td>12/9/2019</td>\n",
       "      <td>23239</td>\n",
       "      <td>Set Of 4 Knick Knack Tins Poppies</td>\n",
       "      <td>11.94</td>\n",
       "      <td>6</td>\n",
       "      <td>71.64</td>\n",
       "      <td>13069.0</td>\n",
       "      <td>United Kingdom</td>\n",
       "    </tr>\n",
       "    <tr>\n",
       "      <th>...</th>\n",
       "      <td>...</td>\n",
       "      <td>...</td>\n",
       "      <td>...</td>\n",
       "      <td>...</td>\n",
       "      <td>...</td>\n",
       "      <td>...</td>\n",
       "      <td>...</td>\n",
       "      <td>...</td>\n",
       "      <td>...</td>\n",
       "    </tr>\n",
       "    <tr>\n",
       "      <th>536345</th>\n",
       "      <td>C536548</td>\n",
       "      <td>12/1/2018</td>\n",
       "      <td>22168</td>\n",
       "      <td>Organiser Wood Antique White</td>\n",
       "      <td>18.96</td>\n",
       "      <td>-2</td>\n",
       "      <td>-37.92</td>\n",
       "      <td>12472.0</td>\n",
       "      <td>Germany</td>\n",
       "    </tr>\n",
       "    <tr>\n",
       "      <th>536346</th>\n",
       "      <td>C536548</td>\n",
       "      <td>12/1/2018</td>\n",
       "      <td>21218</td>\n",
       "      <td>Red Spotty Biscuit Tin</td>\n",
       "      <td>14.09</td>\n",
       "      <td>-3</td>\n",
       "      <td>-42.27</td>\n",
       "      <td>12472.0</td>\n",
       "      <td>Germany</td>\n",
       "    </tr>\n",
       "    <tr>\n",
       "      <th>536347</th>\n",
       "      <td>C536548</td>\n",
       "      <td>12/1/2018</td>\n",
       "      <td>20957</td>\n",
       "      <td>Porcelain Hanging Bell Small</td>\n",
       "      <td>11.74</td>\n",
       "      <td>-1</td>\n",
       "      <td>-11.74</td>\n",
       "      <td>12472.0</td>\n",
       "      <td>Germany</td>\n",
       "    </tr>\n",
       "    <tr>\n",
       "      <th>536348</th>\n",
       "      <td>C536548</td>\n",
       "      <td>12/1/2018</td>\n",
       "      <td>22580</td>\n",
       "      <td>Advent Calendar Gingham Sack</td>\n",
       "      <td>16.35</td>\n",
       "      <td>-4</td>\n",
       "      <td>-65.40</td>\n",
       "      <td>12472.0</td>\n",
       "      <td>Germany</td>\n",
       "    </tr>\n",
       "    <tr>\n",
       "      <th>536349</th>\n",
       "      <td>C536548</td>\n",
       "      <td>12/1/2018</td>\n",
       "      <td>22767</td>\n",
       "      <td>Triple Photo Frame Cornice</td>\n",
       "      <td>20.45</td>\n",
       "      <td>-2</td>\n",
       "      <td>-40.90</td>\n",
       "      <td>12472.0</td>\n",
       "      <td>Germany</td>\n",
       "    </tr>\n",
       "  </tbody>\n",
       "</table>\n",
       "<p>536350 rows × 9 columns</p>\n",
       "</div>"
      ],
      "text/plain": [
       "       TransactionNo       Date ProductNo  \\\n",
       "0             581482  12/9/2019     22485   \n",
       "1             581475  12/9/2019     22596   \n",
       "2             581475  12/9/2019     23235   \n",
       "3             581475  12/9/2019     23272   \n",
       "4             581475  12/9/2019     23239   \n",
       "...              ...        ...       ...   \n",
       "536345       C536548  12/1/2018     22168   \n",
       "536346       C536548  12/1/2018     21218   \n",
       "536347       C536548  12/1/2018     20957   \n",
       "536348       C536548  12/1/2018     22580   \n",
       "536349       C536548  12/1/2018     22767   \n",
       "\n",
       "                                ProductName  Price  Quantity   Sales  \\\n",
       "0             Set Of 2 Wooden Market Crates  21.47        12  257.64   \n",
       "1       Christmas Star Wish List Chalkboard  10.65        36  383.40   \n",
       "2                  Storage Tin Vintage Leaf  11.53        12  138.36   \n",
       "3         Tree T-Light Holder Willie Winkie  10.65        12  127.80   \n",
       "4         Set Of 4 Knick Knack Tins Poppies  11.94         6   71.64   \n",
       "...                                     ...    ...       ...     ...   \n",
       "536345         Organiser Wood Antique White  18.96        -2  -37.92   \n",
       "536346               Red Spotty Biscuit Tin  14.09        -3  -42.27   \n",
       "536347         Porcelain Hanging Bell Small  11.74        -1  -11.74   \n",
       "536348         Advent Calendar Gingham Sack  16.35        -4  -65.40   \n",
       "536349           Triple Photo Frame Cornice  20.45        -2  -40.90   \n",
       "\n",
       "        CustomerNo         Country  \n",
       "0          17490.0  United Kingdom  \n",
       "1          13069.0  United Kingdom  \n",
       "2          13069.0  United Kingdom  \n",
       "3          13069.0  United Kingdom  \n",
       "4          13069.0  United Kingdom  \n",
       "...            ...             ...  \n",
       "536345     12472.0         Germany  \n",
       "536346     12472.0         Germany  \n",
       "536347     12472.0         Germany  \n",
       "536348     12472.0         Germany  \n",
       "536349     12472.0         Germany  \n",
       "\n",
       "[536350 rows x 9 columns]"
      ]
     },
     "execution_count": 6,
     "metadata": {},
     "output_type": "execute_result"
    }
   ],
   "source": [
    "df"
   ]
  },
  {
   "cell_type": "markdown",
   "id": "01f413f3",
   "metadata": {},
   "source": [
    "In our dataframe, we have negative quantities which are quantities that were not ordered by the customer. So I have to remove all the negative quantities from the data."
   ]
  },
  {
   "cell_type": "code",
   "execution_count": 7,
   "id": "00256013",
   "metadata": {},
   "outputs": [
    {
     "data": {
      "text/html": [
       "<div>\n",
       "<style scoped>\n",
       "    .dataframe tbody tr th:only-of-type {\n",
       "        vertical-align: middle;\n",
       "    }\n",
       "\n",
       "    .dataframe tbody tr th {\n",
       "        vertical-align: top;\n",
       "    }\n",
       "\n",
       "    .dataframe thead th {\n",
       "        text-align: right;\n",
       "    }\n",
       "</style>\n",
       "<table border=\"1\" class=\"dataframe\">\n",
       "  <thead>\n",
       "    <tr style=\"text-align: right;\">\n",
       "      <th></th>\n",
       "      <th>TransactionNo</th>\n",
       "      <th>Date</th>\n",
       "      <th>ProductNo</th>\n",
       "      <th>ProductName</th>\n",
       "      <th>Price</th>\n",
       "      <th>Quantity</th>\n",
       "      <th>Sales</th>\n",
       "      <th>CustomerNo</th>\n",
       "      <th>Country</th>\n",
       "    </tr>\n",
       "  </thead>\n",
       "  <tbody>\n",
       "    <tr>\n",
       "      <th>1616</th>\n",
       "      <td>C581484</td>\n",
       "      <td>12/9/2019</td>\n",
       "      <td>23843</td>\n",
       "      <td>Paper Craft Little Birdie</td>\n",
       "      <td>6.19</td>\n",
       "      <td>-80995</td>\n",
       "      <td>-501359.05</td>\n",
       "      <td>16446.0</td>\n",
       "      <td>United Kingdom</td>\n",
       "    </tr>\n",
       "    <tr>\n",
       "      <th>1617</th>\n",
       "      <td>C581490</td>\n",
       "      <td>12/9/2019</td>\n",
       "      <td>22178</td>\n",
       "      <td>Victorian Glass Hanging T-Light</td>\n",
       "      <td>6.19</td>\n",
       "      <td>-12</td>\n",
       "      <td>-74.28</td>\n",
       "      <td>14397.0</td>\n",
       "      <td>United Kingdom</td>\n",
       "    </tr>\n",
       "    <tr>\n",
       "      <th>1618</th>\n",
       "      <td>C581490</td>\n",
       "      <td>12/9/2019</td>\n",
       "      <td>23144</td>\n",
       "      <td>Zinc T-Light Holder Stars Small</td>\n",
       "      <td>6.04</td>\n",
       "      <td>-11</td>\n",
       "      <td>-66.44</td>\n",
       "      <td>14397.0</td>\n",
       "      <td>United Kingdom</td>\n",
       "    </tr>\n",
       "    <tr>\n",
       "      <th>1619</th>\n",
       "      <td>C581568</td>\n",
       "      <td>12/9/2019</td>\n",
       "      <td>21258</td>\n",
       "      <td>Victorian Sewing Box Large</td>\n",
       "      <td>6.19</td>\n",
       "      <td>-5</td>\n",
       "      <td>-30.95</td>\n",
       "      <td>15311.0</td>\n",
       "      <td>United Kingdom</td>\n",
       "    </tr>\n",
       "    <tr>\n",
       "      <th>1620</th>\n",
       "      <td>C581569</td>\n",
       "      <td>12/9/2019</td>\n",
       "      <td>84978</td>\n",
       "      <td>Hanging Heart Jar T-Light Holder</td>\n",
       "      <td>6.19</td>\n",
       "      <td>-1</td>\n",
       "      <td>-6.19</td>\n",
       "      <td>17315.0</td>\n",
       "      <td>United Kingdom</td>\n",
       "    </tr>\n",
       "    <tr>\n",
       "      <th>...</th>\n",
       "      <td>...</td>\n",
       "      <td>...</td>\n",
       "      <td>...</td>\n",
       "      <td>...</td>\n",
       "      <td>...</td>\n",
       "      <td>...</td>\n",
       "      <td>...</td>\n",
       "      <td>...</td>\n",
       "      <td>...</td>\n",
       "    </tr>\n",
       "    <tr>\n",
       "      <th>536345</th>\n",
       "      <td>C536548</td>\n",
       "      <td>12/1/2018</td>\n",
       "      <td>22168</td>\n",
       "      <td>Organiser Wood Antique White</td>\n",
       "      <td>18.96</td>\n",
       "      <td>-2</td>\n",
       "      <td>-37.92</td>\n",
       "      <td>12472.0</td>\n",
       "      <td>Germany</td>\n",
       "    </tr>\n",
       "    <tr>\n",
       "      <th>536346</th>\n",
       "      <td>C536548</td>\n",
       "      <td>12/1/2018</td>\n",
       "      <td>21218</td>\n",
       "      <td>Red Spotty Biscuit Tin</td>\n",
       "      <td>14.09</td>\n",
       "      <td>-3</td>\n",
       "      <td>-42.27</td>\n",
       "      <td>12472.0</td>\n",
       "      <td>Germany</td>\n",
       "    </tr>\n",
       "    <tr>\n",
       "      <th>536347</th>\n",
       "      <td>C536548</td>\n",
       "      <td>12/1/2018</td>\n",
       "      <td>20957</td>\n",
       "      <td>Porcelain Hanging Bell Small</td>\n",
       "      <td>11.74</td>\n",
       "      <td>-1</td>\n",
       "      <td>-11.74</td>\n",
       "      <td>12472.0</td>\n",
       "      <td>Germany</td>\n",
       "    </tr>\n",
       "    <tr>\n",
       "      <th>536348</th>\n",
       "      <td>C536548</td>\n",
       "      <td>12/1/2018</td>\n",
       "      <td>22580</td>\n",
       "      <td>Advent Calendar Gingham Sack</td>\n",
       "      <td>16.35</td>\n",
       "      <td>-4</td>\n",
       "      <td>-65.40</td>\n",
       "      <td>12472.0</td>\n",
       "      <td>Germany</td>\n",
       "    </tr>\n",
       "    <tr>\n",
       "      <th>536349</th>\n",
       "      <td>C536548</td>\n",
       "      <td>12/1/2018</td>\n",
       "      <td>22767</td>\n",
       "      <td>Triple Photo Frame Cornice</td>\n",
       "      <td>20.45</td>\n",
       "      <td>-2</td>\n",
       "      <td>-40.90</td>\n",
       "      <td>12472.0</td>\n",
       "      <td>Germany</td>\n",
       "    </tr>\n",
       "  </tbody>\n",
       "</table>\n",
       "<p>8585 rows × 9 columns</p>\n",
       "</div>"
      ],
      "text/plain": [
       "       TransactionNo       Date ProductNo                       ProductName  \\\n",
       "1616         C581484  12/9/2019     23843         Paper Craft Little Birdie   \n",
       "1617         C581490  12/9/2019     22178   Victorian Glass Hanging T-Light   \n",
       "1618         C581490  12/9/2019     23144   Zinc T-Light Holder Stars Small   \n",
       "1619         C581568  12/9/2019     21258        Victorian Sewing Box Large   \n",
       "1620         C581569  12/9/2019     84978  Hanging Heart Jar T-Light Holder   \n",
       "...              ...        ...       ...                               ...   \n",
       "536345       C536548  12/1/2018     22168      Organiser Wood Antique White   \n",
       "536346       C536548  12/1/2018     21218            Red Spotty Biscuit Tin   \n",
       "536347       C536548  12/1/2018     20957      Porcelain Hanging Bell Small   \n",
       "536348       C536548  12/1/2018     22580      Advent Calendar Gingham Sack   \n",
       "536349       C536548  12/1/2018     22767        Triple Photo Frame Cornice   \n",
       "\n",
       "        Price  Quantity      Sales  CustomerNo         Country  \n",
       "1616     6.19    -80995 -501359.05     16446.0  United Kingdom  \n",
       "1617     6.19       -12     -74.28     14397.0  United Kingdom  \n",
       "1618     6.04       -11     -66.44     14397.0  United Kingdom  \n",
       "1619     6.19        -5     -30.95     15311.0  United Kingdom  \n",
       "1620     6.19        -1      -6.19     17315.0  United Kingdom  \n",
       "...       ...       ...        ...         ...             ...  \n",
       "536345  18.96        -2     -37.92     12472.0         Germany  \n",
       "536346  14.09        -3     -42.27     12472.0         Germany  \n",
       "536347  11.74        -1     -11.74     12472.0         Germany  \n",
       "536348  16.35        -4     -65.40     12472.0         Germany  \n",
       "536349  20.45        -2     -40.90     12472.0         Germany  \n",
       "\n",
       "[8585 rows x 9 columns]"
      ]
     },
     "execution_count": 7,
     "metadata": {},
     "output_type": "execute_result"
    }
   ],
   "source": [
    "df[df['Quantity']<0]"
   ]
  },
  {
   "cell_type": "code",
   "execution_count": 8,
   "id": "c64413ad",
   "metadata": {},
   "outputs": [],
   "source": [
    "df = df[~(df['Quantity']<0)]"
   ]
  },
  {
   "cell_type": "markdown",
   "id": "edaefa22",
   "metadata": {},
   "source": [
    "Dataframe with all the cancelled transactions/negative quantities removed."
   ]
  },
  {
   "cell_type": "code",
   "execution_count": 9,
   "id": "be800b34",
   "metadata": {},
   "outputs": [
    {
     "data": {
      "text/html": [
       "<div>\n",
       "<style scoped>\n",
       "    .dataframe tbody tr th:only-of-type {\n",
       "        vertical-align: middle;\n",
       "    }\n",
       "\n",
       "    .dataframe tbody tr th {\n",
       "        vertical-align: top;\n",
       "    }\n",
       "\n",
       "    .dataframe thead th {\n",
       "        text-align: right;\n",
       "    }\n",
       "</style>\n",
       "<table border=\"1\" class=\"dataframe\">\n",
       "  <thead>\n",
       "    <tr style=\"text-align: right;\">\n",
       "      <th></th>\n",
       "      <th>TransactionNo</th>\n",
       "      <th>Date</th>\n",
       "      <th>ProductNo</th>\n",
       "      <th>ProductName</th>\n",
       "      <th>Price</th>\n",
       "      <th>Quantity</th>\n",
       "      <th>Sales</th>\n",
       "      <th>CustomerNo</th>\n",
       "      <th>Country</th>\n",
       "    </tr>\n",
       "  </thead>\n",
       "  <tbody>\n",
       "    <tr>\n",
       "      <th>0</th>\n",
       "      <td>581482</td>\n",
       "      <td>12/9/2019</td>\n",
       "      <td>22485</td>\n",
       "      <td>Set Of 2 Wooden Market Crates</td>\n",
       "      <td>21.47</td>\n",
       "      <td>12</td>\n",
       "      <td>257.64</td>\n",
       "      <td>17490.0</td>\n",
       "      <td>United Kingdom</td>\n",
       "    </tr>\n",
       "    <tr>\n",
       "      <th>1</th>\n",
       "      <td>581475</td>\n",
       "      <td>12/9/2019</td>\n",
       "      <td>22596</td>\n",
       "      <td>Christmas Star Wish List Chalkboard</td>\n",
       "      <td>10.65</td>\n",
       "      <td>36</td>\n",
       "      <td>383.40</td>\n",
       "      <td>13069.0</td>\n",
       "      <td>United Kingdom</td>\n",
       "    </tr>\n",
       "    <tr>\n",
       "      <th>2</th>\n",
       "      <td>581475</td>\n",
       "      <td>12/9/2019</td>\n",
       "      <td>23235</td>\n",
       "      <td>Storage Tin Vintage Leaf</td>\n",
       "      <td>11.53</td>\n",
       "      <td>12</td>\n",
       "      <td>138.36</td>\n",
       "      <td>13069.0</td>\n",
       "      <td>United Kingdom</td>\n",
       "    </tr>\n",
       "    <tr>\n",
       "      <th>3</th>\n",
       "      <td>581475</td>\n",
       "      <td>12/9/2019</td>\n",
       "      <td>23272</td>\n",
       "      <td>Tree T-Light Holder Willie Winkie</td>\n",
       "      <td>10.65</td>\n",
       "      <td>12</td>\n",
       "      <td>127.80</td>\n",
       "      <td>13069.0</td>\n",
       "      <td>United Kingdom</td>\n",
       "    </tr>\n",
       "    <tr>\n",
       "      <th>4</th>\n",
       "      <td>581475</td>\n",
       "      <td>12/9/2019</td>\n",
       "      <td>23239</td>\n",
       "      <td>Set Of 4 Knick Knack Tins Poppies</td>\n",
       "      <td>11.94</td>\n",
       "      <td>6</td>\n",
       "      <td>71.64</td>\n",
       "      <td>13069.0</td>\n",
       "      <td>United Kingdom</td>\n",
       "    </tr>\n",
       "    <tr>\n",
       "      <th>...</th>\n",
       "      <td>...</td>\n",
       "      <td>...</td>\n",
       "      <td>...</td>\n",
       "      <td>...</td>\n",
       "      <td>...</td>\n",
       "      <td>...</td>\n",
       "      <td>...</td>\n",
       "      <td>...</td>\n",
       "      <td>...</td>\n",
       "    </tr>\n",
       "    <tr>\n",
       "      <th>536320</th>\n",
       "      <td>536585</td>\n",
       "      <td>12/1/2018</td>\n",
       "      <td>37449</td>\n",
       "      <td>Ceramic Cake Stand + Hanging Cakes</td>\n",
       "      <td>20.45</td>\n",
       "      <td>2</td>\n",
       "      <td>40.90</td>\n",
       "      <td>17460.0</td>\n",
       "      <td>United Kingdom</td>\n",
       "    </tr>\n",
       "    <tr>\n",
       "      <th>536321</th>\n",
       "      <td>536590</td>\n",
       "      <td>12/1/2018</td>\n",
       "      <td>22776</td>\n",
       "      <td>Sweetheart 3 Tier Cake Stand</td>\n",
       "      <td>20.45</td>\n",
       "      <td>1</td>\n",
       "      <td>20.45</td>\n",
       "      <td>13065.0</td>\n",
       "      <td>United Kingdom</td>\n",
       "    </tr>\n",
       "    <tr>\n",
       "      <th>536322</th>\n",
       "      <td>536590</td>\n",
       "      <td>12/1/2018</td>\n",
       "      <td>22622</td>\n",
       "      <td>Box Of Vintage Alphabet Blocks</td>\n",
       "      <td>20.45</td>\n",
       "      <td>2</td>\n",
       "      <td>40.90</td>\n",
       "      <td>13065.0</td>\n",
       "      <td>United Kingdom</td>\n",
       "    </tr>\n",
       "    <tr>\n",
       "      <th>536323</th>\n",
       "      <td>536591</td>\n",
       "      <td>12/1/2018</td>\n",
       "      <td>37449</td>\n",
       "      <td>Ceramic Cake Stand + Hanging Cakes</td>\n",
       "      <td>20.45</td>\n",
       "      <td>1</td>\n",
       "      <td>20.45</td>\n",
       "      <td>14606.0</td>\n",
       "      <td>United Kingdom</td>\n",
       "    </tr>\n",
       "    <tr>\n",
       "      <th>536324</th>\n",
       "      <td>536597</td>\n",
       "      <td>12/1/2018</td>\n",
       "      <td>22220</td>\n",
       "      <td>Cake Stand Lovebird 2 Tier White</td>\n",
       "      <td>20.45</td>\n",
       "      <td>1</td>\n",
       "      <td>20.45</td>\n",
       "      <td>18011.0</td>\n",
       "      <td>United Kingdom</td>\n",
       "    </tr>\n",
       "  </tbody>\n",
       "</table>\n",
       "<p>527765 rows × 9 columns</p>\n",
       "</div>"
      ],
      "text/plain": [
       "       TransactionNo       Date ProductNo  \\\n",
       "0             581482  12/9/2019     22485   \n",
       "1             581475  12/9/2019     22596   \n",
       "2             581475  12/9/2019     23235   \n",
       "3             581475  12/9/2019     23272   \n",
       "4             581475  12/9/2019     23239   \n",
       "...              ...        ...       ...   \n",
       "536320        536585  12/1/2018     37449   \n",
       "536321        536590  12/1/2018     22776   \n",
       "536322        536590  12/1/2018     22622   \n",
       "536323        536591  12/1/2018     37449   \n",
       "536324        536597  12/1/2018     22220   \n",
       "\n",
       "                                ProductName  Price  Quantity   Sales  \\\n",
       "0             Set Of 2 Wooden Market Crates  21.47        12  257.64   \n",
       "1       Christmas Star Wish List Chalkboard  10.65        36  383.40   \n",
       "2                  Storage Tin Vintage Leaf  11.53        12  138.36   \n",
       "3         Tree T-Light Holder Willie Winkie  10.65        12  127.80   \n",
       "4         Set Of 4 Knick Knack Tins Poppies  11.94         6   71.64   \n",
       "...                                     ...    ...       ...     ...   \n",
       "536320   Ceramic Cake Stand + Hanging Cakes  20.45         2   40.90   \n",
       "536321         Sweetheart 3 Tier Cake Stand  20.45         1   20.45   \n",
       "536322       Box Of Vintage Alphabet Blocks  20.45         2   40.90   \n",
       "536323   Ceramic Cake Stand + Hanging Cakes  20.45         1   20.45   \n",
       "536324     Cake Stand Lovebird 2 Tier White  20.45         1   20.45   \n",
       "\n",
       "        CustomerNo         Country  \n",
       "0          17490.0  United Kingdom  \n",
       "1          13069.0  United Kingdom  \n",
       "2          13069.0  United Kingdom  \n",
       "3          13069.0  United Kingdom  \n",
       "4          13069.0  United Kingdom  \n",
       "...            ...             ...  \n",
       "536320     17460.0  United Kingdom  \n",
       "536321     13065.0  United Kingdom  \n",
       "536322     13065.0  United Kingdom  \n",
       "536323     14606.0  United Kingdom  \n",
       "536324     18011.0  United Kingdom  \n",
       "\n",
       "[527765 rows x 9 columns]"
      ]
     },
     "execution_count": 9,
     "metadata": {},
     "output_type": "execute_result"
    }
   ],
   "source": [
    "df"
   ]
  },
  {
   "cell_type": "markdown",
   "id": "65243543",
   "metadata": {},
   "source": [
    "Looking for Null/Missing values."
   ]
  },
  {
   "cell_type": "code",
   "execution_count": 10,
   "id": "2ee76684",
   "metadata": {},
   "outputs": [
    {
     "data": {
      "text/plain": [
       "TransactionNo    0\n",
       "Date             0\n",
       "ProductNo        0\n",
       "ProductName      0\n",
       "Price            0\n",
       "Quantity         0\n",
       "Sales            0\n",
       "CustomerNo       1\n",
       "Country          0\n",
       "dtype: int64"
      ]
     },
     "execution_count": 10,
     "metadata": {},
     "output_type": "execute_result"
    }
   ],
   "source": [
    "df.isnull().sum()"
   ]
  },
  {
   "cell_type": "markdown",
   "id": "3e87fc64",
   "metadata": {},
   "source": [
    "Removing the row where the CustomerNo is Null."
   ]
  },
  {
   "cell_type": "code",
   "execution_count": 11,
   "id": "79cc54b5",
   "metadata": {},
   "outputs": [
    {
     "name": "stderr",
     "output_type": "stream",
     "text": [
      "C:\\Users\\PC ZED\\AppData\\Local\\Temp\\ipykernel_1652\\1791587065.py:1: SettingWithCopyWarning: \n",
      "A value is trying to be set on a copy of a slice from a DataFrame\n",
      "\n",
      "See the caveats in the documentation: https://pandas.pydata.org/pandas-docs/stable/user_guide/indexing.html#returning-a-view-versus-a-copy\n",
      "  df.dropna(inplace = True)\n"
     ]
    }
   ],
   "source": [
    "df.dropna(inplace = True)"
   ]
  },
  {
   "cell_type": "markdown",
   "id": "0d9ae145",
   "metadata": {},
   "source": [
    "Checking the data types of the different columns."
   ]
  },
  {
   "cell_type": "code",
   "execution_count": 12,
   "id": "b3ba88b7",
   "metadata": {},
   "outputs": [
    {
     "data": {
      "text/plain": [
       "TransactionNo     object\n",
       "Date              object\n",
       "ProductNo         object\n",
       "ProductName       object\n",
       "Price            float64\n",
       "Quantity           int64\n",
       "Sales            float64\n",
       "CustomerNo       float64\n",
       "Country           object\n",
       "dtype: object"
      ]
     },
     "execution_count": 12,
     "metadata": {},
     "output_type": "execute_result"
    }
   ],
   "source": [
    "df.dtypes"
   ]
  },
  {
   "cell_type": "markdown",
   "id": "670f7491",
   "metadata": {},
   "source": [
    "As we can see, the Date column is an object. So i need to convert it to a datetime data type."
   ]
  },
  {
   "cell_type": "code",
   "execution_count": 13,
   "id": "0eca8956",
   "metadata": {},
   "outputs": [
    {
     "name": "stderr",
     "output_type": "stream",
     "text": [
      "C:\\Users\\PC ZED\\AppData\\Local\\Temp\\ipykernel_1652\\2691600196.py:1: SettingWithCopyWarning: \n",
      "A value is trying to be set on a copy of a slice from a DataFrame.\n",
      "Try using .loc[row_indexer,col_indexer] = value instead\n",
      "\n",
      "See the caveats in the documentation: https://pandas.pydata.org/pandas-docs/stable/user_guide/indexing.html#returning-a-view-versus-a-copy\n",
      "  df['Date']= pd.to_datetime(df['Date'])\n"
     ]
    }
   ],
   "source": [
    "df['Date']= pd.to_datetime(df['Date'])"
   ]
  },
  {
   "cell_type": "code",
   "execution_count": 14,
   "id": "8c563c59",
   "metadata": {},
   "outputs": [
    {
     "data": {
      "text/plain": [
       "TransactionNo            object\n",
       "Date             datetime64[ns]\n",
       "ProductNo                object\n",
       "ProductName              object\n",
       "Price                   float64\n",
       "Quantity                  int64\n",
       "Sales                   float64\n",
       "CustomerNo              float64\n",
       "Country                  object\n",
       "dtype: object"
      ]
     },
     "execution_count": 14,
     "metadata": {},
     "output_type": "execute_result"
    }
   ],
   "source": [
    "df.dtypes"
   ]
  },
  {
   "cell_type": "markdown",
   "id": "0e2c845f",
   "metadata": {},
   "source": [
    "Inserting Month and Year columns in the data frame."
   ]
  },
  {
   "cell_type": "code",
   "execution_count": 15,
   "id": "a86c2c1c",
   "metadata": {},
   "outputs": [
    {
     "name": "stderr",
     "output_type": "stream",
     "text": [
      "C:\\Users\\PC ZED\\AppData\\Local\\Temp\\ipykernel_1652\\3344352228.py:1: SettingWithCopyWarning: \n",
      "A value is trying to be set on a copy of a slice from a DataFrame.\n",
      "Try using .loc[row_indexer,col_indexer] = value instead\n",
      "\n",
      "See the caveats in the documentation: https://pandas.pydata.org/pandas-docs/stable/user_guide/indexing.html#returning-a-view-versus-a-copy\n",
      "  df['Month']= df.Date.dt.month_name()\n",
      "C:\\Users\\PC ZED\\AppData\\Local\\Temp\\ipykernel_1652\\3344352228.py:2: SettingWithCopyWarning: \n",
      "A value is trying to be set on a copy of a slice from a DataFrame.\n",
      "Try using .loc[row_indexer,col_indexer] = value instead\n",
      "\n",
      "See the caveats in the documentation: https://pandas.pydata.org/pandas-docs/stable/user_guide/indexing.html#returning-a-view-versus-a-copy\n",
      "  df['Year']= df.Date.dt.year\n"
     ]
    }
   ],
   "source": [
    "df['Month']= df.Date.dt.month_name()\n",
    "df['Year']= df.Date.dt.year"
   ]
  },
  {
   "cell_type": "code",
   "execution_count": 16,
   "id": "ec11f02c",
   "metadata": {},
   "outputs": [
    {
     "data": {
      "text/html": [
       "<div>\n",
       "<style scoped>\n",
       "    .dataframe tbody tr th:only-of-type {\n",
       "        vertical-align: middle;\n",
       "    }\n",
       "\n",
       "    .dataframe tbody tr th {\n",
       "        vertical-align: top;\n",
       "    }\n",
       "\n",
       "    .dataframe thead th {\n",
       "        text-align: right;\n",
       "    }\n",
       "</style>\n",
       "<table border=\"1\" class=\"dataframe\">\n",
       "  <thead>\n",
       "    <tr style=\"text-align: right;\">\n",
       "      <th></th>\n",
       "      <th>TransactionNo</th>\n",
       "      <th>Date</th>\n",
       "      <th>ProductNo</th>\n",
       "      <th>ProductName</th>\n",
       "      <th>Price</th>\n",
       "      <th>Quantity</th>\n",
       "      <th>Sales</th>\n",
       "      <th>CustomerNo</th>\n",
       "      <th>Country</th>\n",
       "      <th>Month</th>\n",
       "      <th>Year</th>\n",
       "    </tr>\n",
       "  </thead>\n",
       "  <tbody>\n",
       "    <tr>\n",
       "      <th>0</th>\n",
       "      <td>581482</td>\n",
       "      <td>2019-12-09</td>\n",
       "      <td>22485</td>\n",
       "      <td>Set Of 2 Wooden Market Crates</td>\n",
       "      <td>21.47</td>\n",
       "      <td>12</td>\n",
       "      <td>257.64</td>\n",
       "      <td>17490.0</td>\n",
       "      <td>United Kingdom</td>\n",
       "      <td>December</td>\n",
       "      <td>2019</td>\n",
       "    </tr>\n",
       "    <tr>\n",
       "      <th>1</th>\n",
       "      <td>581475</td>\n",
       "      <td>2019-12-09</td>\n",
       "      <td>22596</td>\n",
       "      <td>Christmas Star Wish List Chalkboard</td>\n",
       "      <td>10.65</td>\n",
       "      <td>36</td>\n",
       "      <td>383.40</td>\n",
       "      <td>13069.0</td>\n",
       "      <td>United Kingdom</td>\n",
       "      <td>December</td>\n",
       "      <td>2019</td>\n",
       "    </tr>\n",
       "  </tbody>\n",
       "</table>\n",
       "</div>"
      ],
      "text/plain": [
       "  TransactionNo       Date ProductNo                          ProductName  \\\n",
       "0        581482 2019-12-09     22485        Set Of 2 Wooden Market Crates   \n",
       "1        581475 2019-12-09     22596  Christmas Star Wish List Chalkboard   \n",
       "\n",
       "   Price  Quantity   Sales  CustomerNo         Country     Month  Year  \n",
       "0  21.47        12  257.64     17490.0  United Kingdom  December  2019  \n",
       "1  10.65        36  383.40     13069.0  United Kingdom  December  2019  "
      ]
     },
     "execution_count": 16,
     "metadata": {},
     "output_type": "execute_result"
    }
   ],
   "source": [
    "df.head(2)"
   ]
  },
  {
   "cell_type": "markdown",
   "id": "d32f5539",
   "metadata": {},
   "source": [
    "Sorting the data using the months in the correct order."
   ]
  },
  {
   "cell_type": "code",
   "execution_count": 17,
   "id": "a176980f",
   "metadata": {},
   "outputs": [
    {
     "name": "stderr",
     "output_type": "stream",
     "text": [
      "C:\\Users\\PC ZED\\AppData\\Local\\Temp\\ipykernel_1652\\3955734255.py:3: SettingWithCopyWarning: \n",
      "A value is trying to be set on a copy of a slice from a DataFrame.\n",
      "Try using .loc[row_indexer,col_indexer] = value instead\n",
      "\n",
      "See the caveats in the documentation: https://pandas.pydata.org/pandas-docs/stable/user_guide/indexing.html#returning-a-view-versus-a-copy\n",
      "  df.Month = pd.Categorical(\n"
     ]
    }
   ],
   "source": [
    "dates_in_order = pd.date_range(start = '2022-01-01', end = ' 2022-12-31', freq = 'MS')\n",
    "months_in_order = dates_in_order.map(lambda x: x.month_name()).to_list()\n",
    "df.Month = pd.Categorical(\n",
    "            df.Month,\n",
    "            categories = months_in_order,\n",
    "            ordered = True\n",
    ")"
   ]
  },
  {
   "cell_type": "code",
   "execution_count": 18,
   "id": "c644d0a1",
   "metadata": {},
   "outputs": [
    {
     "name": "stderr",
     "output_type": "stream",
     "text": [
      "C:\\Users\\PC ZED\\AppData\\Local\\Temp\\ipykernel_1652\\3819655095.py:1: SettingWithCopyWarning: \n",
      "A value is trying to be set on a copy of a slice from a DataFrame\n",
      "\n",
      "See the caveats in the documentation: https://pandas.pydata.org/pandas-docs/stable/user_guide/indexing.html#returning-a-view-versus-a-copy\n",
      "  df.sort_values('Month',inplace = True)\n"
     ]
    }
   ],
   "source": [
    "df.sort_values('Month',inplace = True)"
   ]
  },
  {
   "cell_type": "code",
   "execution_count": 19,
   "id": "f488f5a5",
   "metadata": {},
   "outputs": [
    {
     "data": {
      "text/html": [
       "<div>\n",
       "<style scoped>\n",
       "    .dataframe tbody tr th:only-of-type {\n",
       "        vertical-align: middle;\n",
       "    }\n",
       "\n",
       "    .dataframe tbody tr th {\n",
       "        vertical-align: top;\n",
       "    }\n",
       "\n",
       "    .dataframe thead th {\n",
       "        text-align: right;\n",
       "    }\n",
       "</style>\n",
       "<table border=\"1\" class=\"dataframe\">\n",
       "  <thead>\n",
       "    <tr style=\"text-align: right;\">\n",
       "      <th></th>\n",
       "      <th>TransactionNo</th>\n",
       "      <th>Date</th>\n",
       "      <th>ProductNo</th>\n",
       "      <th>ProductName</th>\n",
       "      <th>Price</th>\n",
       "      <th>Quantity</th>\n",
       "      <th>Sales</th>\n",
       "      <th>CustomerNo</th>\n",
       "      <th>Country</th>\n",
       "      <th>Month</th>\n",
       "      <th>Year</th>\n",
       "    </tr>\n",
       "  </thead>\n",
       "  <tbody>\n",
       "    <tr>\n",
       "      <th>470051</th>\n",
       "      <td>541809</td>\n",
       "      <td>2019-01-21</td>\n",
       "      <td>85123A</td>\n",
       "      <td>Cream Hanging Heart T-Light Holder</td>\n",
       "      <td>17.05</td>\n",
       "      <td>1</td>\n",
       "      <td>17.05</td>\n",
       "      <td>16809.0</td>\n",
       "      <td>United Kingdom</td>\n",
       "      <td>January</td>\n",
       "      <td>2019</td>\n",
       "    </tr>\n",
       "    <tr>\n",
       "      <th>471157</th>\n",
       "      <td>541648</td>\n",
       "      <td>2019-01-20</td>\n",
       "      <td>22498</td>\n",
       "      <td>Wooden Regatta Bunting</td>\n",
       "      <td>16.35</td>\n",
       "      <td>2</td>\n",
       "      <td>32.70</td>\n",
       "      <td>17811.0</td>\n",
       "      <td>United Kingdom</td>\n",
       "      <td>January</td>\n",
       "      <td>2019</td>\n",
       "    </tr>\n",
       "  </tbody>\n",
       "</table>\n",
       "</div>"
      ],
      "text/plain": [
       "       TransactionNo       Date ProductNo                         ProductName  \\\n",
       "470051        541809 2019-01-21    85123A  Cream Hanging Heart T-Light Holder   \n",
       "471157        541648 2019-01-20     22498              Wooden Regatta Bunting   \n",
       "\n",
       "        Price  Quantity  Sales  CustomerNo         Country    Month  Year  \n",
       "470051  17.05         1  17.05     16809.0  United Kingdom  January  2019  \n",
       "471157  16.35         2  32.70     17811.0  United Kingdom  January  2019  "
      ]
     },
     "execution_count": 19,
     "metadata": {},
     "output_type": "execute_result"
    }
   ],
   "source": [
    "df.head(2)"
   ]
  },
  {
   "cell_type": "markdown",
   "id": "39f54e2e",
   "metadata": {},
   "source": [
    "Visualizing the data using the matplotlib library."
   ]
  },
  {
   "cell_type": "code",
   "execution_count": 20,
   "id": "847d8de1",
   "metadata": {},
   "outputs": [],
   "source": [
    "import matplotlib.pyplot as plt"
   ]
  },
  {
   "cell_type": "code",
   "execution_count": 31,
   "id": "d5da63d5",
   "metadata": {},
   "outputs": [],
   "source": [
    "month = df['Month']\n",
    "Sales = df['Sales']"
   ]
  },
  {
   "cell_type": "markdown",
   "id": "6516274b",
   "metadata": {},
   "source": [
    "# Line graph showing the Total Sales over Months."
   ]
  },
  {
   "cell_type": "code",
   "execution_count": 48,
   "id": "2ecf5141",
   "metadata": {},
   "outputs": [
    {
     "data": {
      "image/png": "[encoded data removed]",
      "text/plain": [
       "<Figure size 576x396 with 1 Axes>"
      ]
     },
     "metadata": {},
     "output_type": "display_data"
    }
   ],
   "source": [
    "plt.style.use('seaborn')\n",
    "plt.ticklabel_format(style = 'plain')\n",
    "df.groupby('Month').Sales.sum().plot(marker = 'o',label = 'Sales',color = 'g')\n",
    "plt.title('Sales by Month')\n",
    "plt.ylabel('Sales')\n",
    "plt.xticks(label = 'month',rotation = 45)\n",
    "plt.legend()\n",
    "plt.tight_layout()\n",
    "plt.show()"
   ]
  },
  {
   "cell_type": "markdown",
   "id": "e2ab9bf4",
   "metadata": {},
   "source": [
    "According to the line graph,the highest sales transactions was recorded in the month of November and the lowest sales transaction was recorded in the month of February."
   ]
  },
  {
   "cell_type": "markdown",
   "id": "0b409af9",
   "metadata": {},
   "source": [
    "The sales were highest in the fourth quarter due the festive season and holidays.\n",
    "The sales were lowest at the beginning of the year which is usually the end of the holiday season."
   ]
  },
  {
   "cell_type": "code",
   "execution_count": 24,
   "id": "e35f134f",
   "metadata": {},
   "outputs": [
    {
     "data": {
      "text/html": [
       "<div>\n",
       "<style scoped>\n",
       "    .dataframe tbody tr th:only-of-type {\n",
       "        vertical-align: middle;\n",
       "    }\n",
       "\n",
       "    .dataframe tbody tr th {\n",
       "        vertical-align: top;\n",
       "    }\n",
       "\n",
       "    .dataframe thead th {\n",
       "        text-align: right;\n",
       "    }\n",
       "</style>\n",
       "<table border=\"1\" class=\"dataframe\">\n",
       "  <thead>\n",
       "    <tr style=\"text-align: right;\">\n",
       "      <th></th>\n",
       "      <th>TransactionNo</th>\n",
       "      <th>Date</th>\n",
       "      <th>ProductNo</th>\n",
       "      <th>ProductName</th>\n",
       "      <th>Price</th>\n",
       "      <th>Quantity</th>\n",
       "      <th>Sales</th>\n",
       "      <th>CustomerNo</th>\n",
       "      <th>Country</th>\n",
       "      <th>Month</th>\n",
       "      <th>Year</th>\n",
       "    </tr>\n",
       "  </thead>\n",
       "  <tbody>\n",
       "    <tr>\n",
       "      <th>470051</th>\n",
       "      <td>541809</td>\n",
       "      <td>2019-01-21</td>\n",
       "      <td>85123A</td>\n",
       "      <td>Cream Hanging Heart T-Light Holder</td>\n",
       "      <td>17.05</td>\n",
       "      <td>1</td>\n",
       "      <td>17.05</td>\n",
       "      <td>16809.0</td>\n",
       "      <td>United Kingdom</td>\n",
       "      <td>January</td>\n",
       "      <td>2019</td>\n",
       "    </tr>\n",
       "    <tr>\n",
       "      <th>471157</th>\n",
       "      <td>541648</td>\n",
       "      <td>2019-01-20</td>\n",
       "      <td>22498</td>\n",
       "      <td>Wooden Regatta Bunting</td>\n",
       "      <td>16.35</td>\n",
       "      <td>2</td>\n",
       "      <td>32.70</td>\n",
       "      <td>17811.0</td>\n",
       "      <td>United Kingdom</td>\n",
       "      <td>January</td>\n",
       "      <td>2019</td>\n",
       "    </tr>\n",
       "  </tbody>\n",
       "</table>\n",
       "</div>"
      ],
      "text/plain": [
       "       TransactionNo       Date ProductNo                         ProductName  \\\n",
       "470051        541809 2019-01-21    85123A  Cream Hanging Heart T-Light Holder   \n",
       "471157        541648 2019-01-20     22498              Wooden Regatta Bunting   \n",
       "\n",
       "        Price  Quantity  Sales  CustomerNo         Country    Month  Year  \n",
       "470051  17.05         1  17.05     16809.0  United Kingdom  January  2019  \n",
       "471157  16.35         2  32.70     17811.0  United Kingdom  January  2019  "
      ]
     },
     "execution_count": 24,
     "metadata": {},
     "output_type": "execute_result"
    }
   ],
   "source": [
    "df.head(2)"
   ]
  },
  {
   "cell_type": "markdown",
   "id": "066e702a",
   "metadata": {},
   "source": [
    "# A bar graph showing the top 5 products by sales."
   ]
  },
  {
   "cell_type": "code",
   "execution_count": 35,
   "id": "fc6b1971",
   "metadata": {},
   "outputs": [
    {
     "data": {
      "text/plain": [
       "Text(0, 0.5, 'Sales')"
      ]
     },
     "execution_count": 35,
     "metadata": {},
     "output_type": "execute_result"
    },
    {
     "data": {
      "image/png": "[encoded data removed]",
      "text/plain": [
       "<Figure size 576x396 with 1 Axes>"
      ]
     },
     "metadata": {},
     "output_type": "display_data"
    }
   ],
   "source": [
    "plt.style.use('seaborn-dark')\n",
    "plt.ticklabel_format(style = 'plain')\n",
    "df.groupby('ProductName').Sales.sum().sort_values(ascending = False).head(5).plot(kind = 'bar',color = 'green')\n",
    "plt.title('Top 5 Products by Sales')\n",
    "plt.ylabel('Sales')"
   ]
  },
  {
   "cell_type": "markdown",
   "id": "6f7c04a2",
   "metadata": {},
   "source": [
    "Paper Craft Little Birdie was the highest selling product followed by Medium Ceramic Top Storage Jar."
   ]
  },
  {
   "cell_type": "markdown",
   "id": "e396d4bc",
   "metadata": {},
   "source": [
    "# A bar graph showing the bottom 5 products by sales."
   ]
  },
  {
   "cell_type": "code",
   "execution_count": 36,
   "id": "8f00078f",
   "metadata": {},
   "outputs": [
    {
     "data": {
      "text/plain": [
       "Text(0.5, 1.0, 'Bottom 5 Products by Sales')"
      ]
     },
     "execution_count": 36,
     "metadata": {},
     "output_type": "execute_result"
    },
    {
     "data": {
      "image/png": "[encoded data removed]",
      "text/plain": [
       "<Figure size 576x396 with 1 Axes>"
      ]
     },
     "metadata": {},
     "output_type": "display_data"
    }
   ],
   "source": [
    "plt.style.use('_classic_test_patch')\n",
    "df.groupby('ProductName').Sales.sum().sort_values().head(5).plot(kind = 'bar',color = 'orange')\n",
    "plt.ylabel('Sales')\n",
    "plt.title('Bottom 5 Products by Sales')"
   ]
  },
  {
   "cell_type": "markdown",
   "id": "cd42486e",
   "metadata": {},
   "source": [
    "Set 10 Cards Snowy Robin 17099 was the lowest selling product."
   ]
  },
  {
   "cell_type": "code",
   "execution_count": 27,
   "id": "d9945a37",
   "metadata": {},
   "outputs": [
    {
     "data": {
      "text/html": [
       "<div>\n",
       "<style scoped>\n",
       "    .dataframe tbody tr th:only-of-type {\n",
       "        vertical-align: middle;\n",
       "    }\n",
       "\n",
       "    .dataframe tbody tr th {\n",
       "        vertical-align: top;\n",
       "    }\n",
       "\n",
       "    .dataframe thead th {\n",
       "        text-align: right;\n",
       "    }\n",
       "</style>\n",
       "<table border=\"1\" class=\"dataframe\">\n",
       "  <thead>\n",
       "    <tr style=\"text-align: right;\">\n",
       "      <th></th>\n",
       "      <th>TransactionNo</th>\n",
       "      <th>Date</th>\n",
       "      <th>ProductNo</th>\n",
       "      <th>ProductName</th>\n",
       "      <th>Price</th>\n",
       "      <th>Quantity</th>\n",
       "      <th>Sales</th>\n",
       "      <th>CustomerNo</th>\n",
       "      <th>Country</th>\n",
       "      <th>Month</th>\n",
       "      <th>Year</th>\n",
       "    </tr>\n",
       "  </thead>\n",
       "  <tbody>\n",
       "    <tr>\n",
       "      <th>470051</th>\n",
       "      <td>541809</td>\n",
       "      <td>2019-01-21</td>\n",
       "      <td>85123A</td>\n",
       "      <td>Cream Hanging Heart T-Light Holder</td>\n",
       "      <td>17.05</td>\n",
       "      <td>1</td>\n",
       "      <td>17.05</td>\n",
       "      <td>16809.0</td>\n",
       "      <td>United Kingdom</td>\n",
       "      <td>January</td>\n",
       "      <td>2019</td>\n",
       "    </tr>\n",
       "    <tr>\n",
       "      <th>471157</th>\n",
       "      <td>541648</td>\n",
       "      <td>2019-01-20</td>\n",
       "      <td>22498</td>\n",
       "      <td>Wooden Regatta Bunting</td>\n",
       "      <td>16.35</td>\n",
       "      <td>2</td>\n",
       "      <td>32.70</td>\n",
       "      <td>17811.0</td>\n",
       "      <td>United Kingdom</td>\n",
       "      <td>January</td>\n",
       "      <td>2019</td>\n",
       "    </tr>\n",
       "  </tbody>\n",
       "</table>\n",
       "</div>"
      ],
      "text/plain": [
       "       TransactionNo       Date ProductNo                         ProductName  \\\n",
       "470051        541809 2019-01-21    85123A  Cream Hanging Heart T-Light Holder   \n",
       "471157        541648 2019-01-20     22498              Wooden Regatta Bunting   \n",
       "\n",
       "        Price  Quantity  Sales  CustomerNo         Country    Month  Year  \n",
       "470051  17.05         1  17.05     16809.0  United Kingdom  January  2019  \n",
       "471157  16.35         2  32.70     17811.0  United Kingdom  January  2019  "
      ]
     },
     "execution_count": 27,
     "metadata": {},
     "output_type": "execute_result"
    }
   ],
   "source": [
    "df.head(2)"
   ]
  },
  {
   "cell_type": "markdown",
   "id": "f123d007",
   "metadata": {},
   "source": [
    "# A bar graph showing the top 10 Countries by sales"
   ]
  },
  {
   "cell_type": "code",
   "execution_count": 37,
   "id": "6f5b126b",
   "metadata": {},
   "outputs": [
    {
     "data": {
      "text/plain": [
       "Text(0, 0.5, 'Sales')"
      ]
     },
     "execution_count": 37,
     "metadata": {},
     "output_type": "execute_result"
    },
    {
     "data": {
      "image/png": "[encoded data removed]",
      "text/plain": [
       "<Figure size 576x396 with 1 Axes>"
      ]
     },
     "metadata": {},
     "output_type": "display_data"
    }
   ],
   "source": [
    "plt.style.use('seaborn-dark')\n",
    "df.groupby('Country').Sales.sum().sort_values(ascending = False).head(10).plot(kind = 'bar',log = True)\n",
    "plt.title('Top 10 Countries by Sales')\n",
    "plt.ylabel('Sales')"
   ]
  },
  {
   "cell_type": "markdown",
   "id": "6f0f45ea",
   "metadata": {},
   "source": [
    "# A bar graph showing the sales and quantities per year."
   ]
  },
  {
   "cell_type": "code",
   "execution_count": 46,
   "id": "6c3a2f65",
   "metadata": {},
   "outputs": [
    {
     "name": "stderr",
     "output_type": "stream",
     "text": [
      "C:\\Users\\PC ZED\\AppData\\Local\\Temp\\ipykernel_1652\\3644497119.py:2: FutureWarning: Indexing with multiple keys (implicitly converted to a tuple of keys) will be deprecated, use a list instead.\n",
      "  df.groupby('Year')['Sales','Quantity'].sum().plot(kind = 'bar', log = True)\n"
     ]
    },
    {
     "data": {
      "text/plain": [
       "Text(0, 0.5, 'Sales/Quantities')"
      ]
     },
     "execution_count": 46,
     "metadata": {},
     "output_type": "execute_result"
    },
    {
     "data": {
      "image/png": "[encoded data removed]",
      "text/plain": [
       "<Figure size 576x396 with 1 Axes>"
      ]
     },
     "metadata": {},
     "output_type": "display_data"
    }
   ],
   "source": [
    "plt.style.use('seaborn-dark')\n",
    "df.groupby('Year')['Sales','Quantity'].sum().plot(kind = 'bar', log = True)\n",
    "plt.title('Sales and Quantities per Year')\n",
    "plt.ylabel('Sales/Quantities')"
   ]
  },
  {
   "cell_type": "markdown",
   "id": "ab159ab8",
   "metadata": {},
   "source": [
    "According to the bar graph above,2019 recorded the highest sales compared to 2018."
   ]
  }
 ],
 "metadata": {
  "kernelspec": {
   "display_name": "Python 3 (ipykernel)",
   "language": "python",
   "name": "python3"
  },
  "language_info": {
   "codemirror_mode": {
    "name": "ipython",
    "version": 3
   },
   "file_extension": ".py",
   "mimetype": "text/x-python",
   "name": "python",
   "nbconvert_exporter": "python",
   "pygments_lexer": "ipython3",
   "version": "3.9.12"
  }
 },
 "nbformat": 4,
 "nbformat_minor": 5
}
